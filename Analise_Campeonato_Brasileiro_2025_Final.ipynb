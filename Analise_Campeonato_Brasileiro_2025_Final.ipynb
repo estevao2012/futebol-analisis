{
 "cells": [
  {
   "cell_type": "markdown",
   "metadata": {},
   "source": [
    "# Análise do Campeonato Brasileiro 2025 com Apache Spark\n",
    "\n",
    "## Trabalho Final - Big Data Analytics\n",
    "**Data:** 2 de Setembro de 2025\n",
    "\n",
    "### Requisitos Atendidos:\n",
    "- **Analisar eventos** (Campeonato Brasileiro completo)\n",
    "- **Usar SQL, streaming e/ou machine learning**\n",
    "- **Incluir gráficos ou análises** (clustering + visualizações)\n",
    "- **Ter uma massa de dados** (38.000 eventos simulados)\n",
    "- **Jupyter Notebook** (esta aplicação)\n",
    "\n",
    "### Cenário:\n",
    "- **20 times** da elite do futebol brasileiro\n",
    "- **38 rodadas** (turno e returno)\n",
    "- **380 partidas** completas\n",
    "- **38.000 eventos** (100 por partida)\n",
    "- **30 tipos diferentes** de eventos de futebol\n",
    "- **220 jogadores** (11 por time)\n",
    "- **Machine Learning** com clustering de times e jogadores"
   ]
  },
  {
   "cell_type": "markdown",
   "metadata": {},
   "source": [
    "## 1. Configuração do Ambiente Spark"
   ]
  },
  {
   "cell_type": "code",
   "execution_count": 1,
   "metadata": {},
   "outputs": [
    {
     "name": "stdout",
     "output_type": "stream",
     "text": [
      "Ambiente Apache Spark configurado com sucesso!\n",
      "Bibliotecas carregadas: PySpark, pandas, numpy, matplotlib, seaborn\n",
      "Machine Learning: Spark MLlib disponível\n"
     ]
    }
   ],
   "source": [
    "# Importações necessárias para Apache Spark\n",
    "import findspark\n",
    "findspark.init()\n",
    "\n",
    "from pyspark.sql import SparkSession\n",
    "import pyspark.sql.functions as F\n",
    "import pyspark.sql.types as T\n",
    "\n",
    "from pyspark.ml.clustering import KMeans as SparkKMeans\n",
    "from pyspark.ml.feature import VectorAssembler, StandardScaler as SparkStandardScaler\n",
    "from pyspark.ml import Pipeline\n",
    "\n",
    "import pandas as pd\n",
    "import numpy as np\n",
    "import matplotlib.pyplot as plt\n",
    "import seaborn as sns\n",
    "from datetime import datetime, timedelta\n",
    "import random\n",
    "import uuid\n",
    "import time as _time\n",
    "import warnings\n",
    "import json\n",
    "import os\n",
    "import shutil\n",
    "import builtins\n",
    "\n",
    "# Configurar gráficos\n",
    "plt.style.use('seaborn-v0_8')\n",
    "plt.rcParams['figure.figsize'] = (12, 8)\n",
    "plt.rcParams['font.size'] = 12\n",
    "warnings.filterwarnings('ignore')\n",
    "\n",
    "print(\"Ambiente Apache Spark configurado com sucesso!\")\n",
    "print(\"Bibliotecas carregadas: PySpark, pandas, numpy, matplotlib, seaborn\")\n",
    "print(\"Machine Learning: Spark MLlib disponível\")"
   ]
  },
  {
   "cell_type": "code",
   "execution_count": 2,
   "metadata": {},
   "outputs": [
    {
     "name": "stdout",
     "output_type": "stream",
     "text": [
      "Spark Session iniciada: 3.4.1\n",
      "Spark Context: CampeonatoBrasileiro2025\n",
      "Master: local[*]\n",
      "Configuração simplificada - Spark rodando em modo local\n"
     ]
    }
   ],
   "source": [
    "# Inicializar Spark Session (modo local)\n",
    "spark = SparkSession.builder \\\n",
    "    .appName(\"CampeonatoBrasileiro2025\") \\\n",
    "    .master(\"local[*]\") \\\n",
    "    .config(\"spark.sql.adaptive.enabled\", \"true\") \\\n",
    "    .config(\"spark.sql.adaptive.coalescePartitions.enabled\", \"true\") \\\n",
    "    .getOrCreate()\n",
    "\n",
    "# Configurar nível de log\n",
    "spark.sparkContext.setLogLevel(\"WARN\")\n",
    "\n",
    "print(f\"Spark Session iniciada: {spark.version}\")\n",
    "print(f\"Spark Context: {spark.sparkContext.appName}\")\n",
    "print(f\"Master: {spark.sparkContext.master}\")\n",
    "print(\"Configuração simplificada - Spark rodando em modo local\")"
   ]
  },
  {
   "cell_type": "markdown",
   "metadata": {},
   "source": [
    "## 2. Geração de Dados do Campeonato Brasileiro 2025"
   ]
  },
  {
   "cell_type": "code",
   "execution_count": 3,
   "metadata": {},
   "outputs": [
    {
     "name": "stdout",
     "output_type": "stream",
     "text": [
      "Times participantes: 20\n",
      "Tipos de eventos: 30\n",
      "Times: Flamengo, Palmeiras, São Paulo, Corinthians, Santos...\n"
     ]
    }
   ],
   "source": [
    "# 20 times do Brasileirão 2025\n",
    "times_brasileirao = [\n",
    "    'Flamengo', 'Palmeiras', 'São Paulo', 'Corinthians', 'Santos', 'Vasco',\n",
    "    'Botafogo', 'Fluminense', 'Atlético-MG', 'Cruzeiro', 'Internacional',\n",
    "    'Grêmio', 'Bahia', 'Sport', 'Fortaleza', 'Ceará', 'Athletico-PR',\n",
    "    'Coritiba', 'Goiás', 'Cuiabá'\n",
    "]\n",
    "\n",
    "# 30 tipos de eventos que acontecem em uma partida de futebol\n",
    "tipos_eventos = [\n",
    "    'GOL', 'ASSISTENCIA', 'CHUTE_GOL', 'CHUTE_FORA', 'CHUTE_DEFENDIDO',\n",
    "    'PASSE_CERTO', 'PASSE_ERRADO', 'PASSE_LONGO', 'CRUZAMENTO',\n",
    "    'FALTA_COMETIDA', 'FALTA_SOFRIDA', 'CARTAO_AMARELO', 'CARTAO_VERMELHO',\n",
    "    'IMPEDIMENTO', 'ESCANTEIO', 'LATERAL', 'TIRO_META', 'PENALTI',\n",
    "    'DEFESA_GOLEIRO', 'DESARME', 'INTERCEPTACAO', 'CABECADA',\n",
    "    'DRIBLE_CERTO', 'DRIBLE_ERRADO', 'SUBSTITUICAO', 'LESAO',\n",
    "    'COBRANCA_FALTA', 'COBRANCA_ESCANTEIO', 'COBRANCA_PENALTI', 'POSSE_BOLA'\n",
    "]\n",
    "\n",
    "print(f\"Times participantes: {len(times_brasileirao)}\")\n",
    "print(f\"Tipos de eventos: {len(tipos_eventos)}\")\n",
    "print(f\"Times: {', '.join(times_brasileirao[:5])}...\")"
   ]
  },
  {
   "cell_type": "markdown",
   "metadata": {},
   "source": [
    "## 3. Geração de Jogadores (11 por time)"
   ]
  },
  {
   "cell_type": "code",
   "execution_count": 4,
   "metadata": {},
   "outputs": [
    {
     "name": "stdout",
     "output_type": "stream",
     "text": [
      "Jogadores gerados: 20 times x 11 jogadores = 220 jogadores\n",
      "\n",
      "Exemplo - Jogadores do Flamengo:\n",
      "   1. Melo 1\n",
      "   2. Cardoso 2\n",
      "   3. Gomes 3\n",
      "   4. Oliveira 4\n",
      "   5. Teixeira 5\n",
      "   ...\n"
     ]
    }
   ],
   "source": [
    "# Gerar jogadores para cada time (11 jogadores por time)\n",
    "jogadores_por_time = {}\n",
    "nomes_jogadores = [\n",
    "    'Silva', 'Santos', 'Oliveira', 'Souza', 'Lima', 'Pereira', 'Costa', 'Rodrigues',\n",
    "    'Almeida', 'Nascimento', 'Carvalho', 'Araújo', 'Melo', 'Barbosa', 'Ribeiro',\n",
    "    'Martins', 'Rocha', 'Ferreira', 'Gomes', 'Dias', 'Moreira', 'Cardoso', 'Reis',\n",
    "    'Fernandes', 'Castro', 'Andrade', 'Machado', 'Freitas', 'Monteiro', 'Campos',\n",
    "    'Vieira', 'Ramos', 'Correia', 'Teixeira', 'Mendes', 'Nunes', 'Soares', 'Lopes',\n",
    "    'Pinto', 'Cunha', 'Fonseca', 'Morais', 'Batista', 'Guerreiro', 'Coelho'\n",
    "]\n",
    "\n",
    "for time in times_brasileirao:\n",
    "    # Gerar 11 jogadores únicos por time\n",
    "    nomes_time = random.sample(nomes_jogadores, 11)\n",
    "    jogadores_por_time[time] = [f\"{nome} {i+1}\" for i, nome in enumerate(nomes_time)]\n",
    "\n",
    "total_jogadores = len(times_brasileirao) * 11  # 20 times x 11 jogadores cada\n",
    "print(f\"Jogadores gerados: {len(jogadores_por_time)} times x 11 jogadores = {total_jogadores} jogadores\")\n",
    "\n",
    "# Mostrar exemplo de jogadores\n",
    "print(f\"\\nExemplo - Jogadores do Flamengo:\")\n",
    "for i, jogador in enumerate(jogadores_por_time['Flamengo'][:5]):\n",
    "    print(f\"   {i+1}. {jogador}\")\n",
    "print(\"   ...\")"
   ]
  },
  {
   "cell_type": "markdown",
   "metadata": {},
   "source": [
    "## 4. Geração de Partidas (38 rodadas sem repetição)"
   ]
  },
  {
   "cell_type": "code",
   "execution_count": 5,
   "metadata": {},
   "outputs": [
    {
     "name": "stdout",
     "output_type": "stream",
     "text": [
      "Partidas geradas: 380 jogos\n",
      "Período: 01/05/2025 a 15/01/2026\n",
      "Rodadas: 38\n"
     ]
    }
   ],
   "source": [
    "# Gerar todas as partidas do campeonato (38 rodadas)\n",
    "# Cada time joga contra todos os outros 2 vezes (casa e fora)\n",
    "partidas = []\n",
    "\n",
    "# Gerar todas as combinações possíveis\n",
    "todas_combinacoes = []\n",
    "for i, time_casa in enumerate(times_brasileirao):\n",
    "    for j, time_visitante in enumerate(times_brasileirao):\n",
    "        if i != j:  # Time não joga contra si mesmo\n",
    "            todas_combinacoes.append((time_casa, time_visitante))\n",
    "\n",
    "# Embaralhar as combinações\n",
    "random.shuffle(todas_combinacoes)\n",
    "\n",
    "# Distribuir em 38 rodadas (10 jogos por rodada)\n",
    "rodada = 1\n",
    "for i in range(0, len(todas_combinacoes), 10):\n",
    "    jogos_rodada = todas_combinacoes[i:i+10]\n",
    "    \n",
    "    # Determinar se é turno ou returno\n",
    "    turno = 'Primeiro' if rodada <= 19 else 'Segundo'\n",
    "    \n",
    "    for time_casa, time_visitante in jogos_rodada:\n",
    "        partidas.append({\n",
    "            'rodada': rodada,\n",
    "            'turno': turno,\n",
    "            'time_casa': time_casa,\n",
    "            'time_visitante': time_visitante,\n",
    "            'data': datetime(2025, 5, 1) + timedelta(days=(rodada-1)*7)\n",
    "        })\n",
    "    \n",
    "    rodada += 1\n",
    "    if rodada > 38:  # Limitar a 38 rodadas\n",
    "        break\n",
    "\n",
    "print(f\"Partidas geradas: {len(partidas)} jogos\")\n",
    "print(f\"Período: {partidas[0]['data'].strftime('%d/%m/%Y')} a {partidas[-1]['data'].strftime('%d/%m/%Y')}\")\n",
    "print(f\"Rodadas: {builtins.max(p['rodada'] for p in partidas)}\")"
   ]
  },
  {
   "cell_type": "markdown",
   "metadata": {},
   "source": [
    "## 3. Publicação de Eventos (File Sink)"
   ]
  },
  {
   "cell_type": "code",
   "execution_count": 6,
   "metadata": {},
   "outputs": [
    {
     "name": "stdout",
     "output_type": "stream",
     "text": [
      "Função de geração de eventos configurada\n"
     ]
    }
   ],
   "source": [
    "# Função para gerar eventos de futebol\n",
    "def gerar_evento_futebol(partida, jogadores_por_time, tipos_eventos):\n",
    "    \"\"\"Gera um evento de futebol para uma partida\"\"\"\n",
    "    # Escolher time (60% casa, 40% visitante)\n",
    "    if random.random() < 0.6:\n",
    "        time = partida['time_casa']\n",
    "    else:\n",
    "        time = partida['time_visitante']\n",
    "    \n",
    "    # Escolher jogador do time\n",
    "    jogador = random.choice(jogadores_por_time[time])\n",
    "    \n",
    "    # Tipo de evento (alguns mais frequentes que outros)\n",
    "    if random.random() < 0.4:\n",
    "        tipo_evento = random.choice(['PASSE_CERTO', 'PASSE_ERRADO', 'POSSE_BOLA'])\n",
    "    elif random.random() < 0.6:\n",
    "        tipo_evento = random.choice(['CHUTE_FORA', 'FALTA_COMETIDA', 'DESARME'])\n",
    "    elif random.random() < 0.7:\n",
    "        tipo_evento = random.choice(['ESCANTEIO', 'LATERAL', 'TIRO_META'])\n",
    "    else:\n",
    "        tipo_evento = random.choice(tipos_eventos)\n",
    "    \n",
    "    # Minuto da partida\n",
    "    minuto = random.randint(1, 90)\n",
    "    \n",
    "    # Timestamp atual\n",
    "    timestamp = datetime.now()\n",
    "    \n",
    "    evento = {\n",
    "        'id': str(uuid.uuid4())[:8],\n",
    "        'rodada': partida['rodada'],\n",
    "        'turno': partida['turno'],\n",
    "        'time_casa': partida['time_casa'],\n",
    "        'time_visitante': partida['time_visitante'],\n",
    "        'time_evento': time,\n",
    "        'jogador': jogador,\n",
    "        'tipo_evento': tipo_evento,\n",
    "        'minuto': minuto,\n",
    "        'timestamp': timestamp.isoformat(),\n",
    "        'data_partida': partida['data'].strftime('%Y-%m-%d')\n",
    "    }\n",
    "    \n",
    "    return json.dumps(evento)\n",
    "\n",
    "print(\"Função de geração de eventos configurada\")"
   ]
  },
  {
   "cell_type": "code",
   "execution_count": 7,
   "metadata": {},
   "outputs": [
    {
     "name": "stdout",
     "output_type": "stream",
     "text": [
      "Eventos publicados em data/stream_inbox: 38,000\n"
     ]
    }
   ],
   "source": [
    "INBOX_DIR = 'data/stream_inbox'\n",
    "CKPT_DIR = 'data/stream_ckpt'\n",
    "if os.path.exists(INBOX_DIR):\n",
    "    shutil.rmtree(INBOX_DIR)\n",
    "os.makedirs(INBOX_DIR, exist_ok=True)\n",
    "if os.path.exists(CKPT_DIR):\n",
    "    shutil.rmtree(CKPT_DIR)\n",
    "os.makedirs(CKPT_DIR, exist_ok=True)\n",
    "eventos_publicacao = []\n",
    "for partida in partidas:\n",
    "    for _ in range(100):\n",
    "        evento_json = gerar_evento_futebol(partida, jogadores_por_time, tipos_eventos)\n",
    "        eventos_publicacao.append(json.loads(evento_json))\n",
    "df_publicacao = spark.createDataFrame(eventos_publicacao)\n",
    "df_publicacao.coalesce(1).write.mode('overwrite').json(INBOX_DIR)\n",
    "print(f\"Eventos publicados em {INBOX_DIR}: {df_publicacao.count():,}\")"
   ]
  },
  {
   "cell_type": "markdown",
   "metadata": {},
   "source": [
    "## 4. Leitura dos Eventos (Structured Streaming, trigger once)"
   ]
  },
  {
   "cell_type": "code",
   "execution_count": 8,
   "metadata": {},
   "outputs": [
    {
     "name": "stdout",
     "output_type": "stream",
     "text": [
      "Eventos lidos do inbox: 38,000\n"
     ]
    }
   ],
   "source": [
    "evento_schema = T.StructType([\n",
    "    T.StructField('id', T.StringType(), True),\n",
    "    T.StructField('rodada', T.IntegerType(), True),\n",
    "    T.StructField('turno', T.StringType(), True),\n",
    "    T.StructField('time_casa', T.StringType(), True),\n",
    "    T.StructField('time_visitante', T.StringType(), True),\n",
    "    T.StructField('time_evento', T.StringType(), True),\n",
    "    T.StructField('jogador', T.StringType(), True),\n",
    "    T.StructField('tipo_evento', T.StringType(), True),\n",
    "    T.StructField('minuto', T.IntegerType(), True),\n",
    "    T.StructField('timestamp', T.StringType(), True),\n",
    "    T.StructField('data_partida', T.StringType(), True),\n",
    "])\n",
    "df_stream = spark.readStream.schema(evento_schema).json(INBOX_DIR)\n",
    "for q in spark.streams.active:\n",
    "    if q.name == 'eventos':\n",
    "        q.stop()\n",
    "query = df_stream.writeStream.outputMode('append').format('memory').queryName('eventos').option('checkpointLocation', CKPT_DIR).trigger(once=True).start()\n",
    "query.awaitTermination()\n",
    "total_eventos = spark.sql(\"SELECT COUNT(*) AS c FROM eventos\").collect()[0]['c']\n",
    "print(f\"Eventos lidos do inbox: {total_eventos:,}\")"
   ]
  },
  {
   "cell_type": "markdown",
   "metadata": {},
   "source": [
    "## 7. Análises SQL com Spark"
   ]
  },
  {
   "cell_type": "code",
   "execution_count": 9,
   "metadata": {},
   "outputs": [
    {
     "name": "stdout",
     "output_type": "stream",
     "text": [
      "Verificando view eventos...\n",
      "View 'eventos' disponível. Registros: 38,000\n"
     ]
    }
   ],
   "source": [
    "# Garantir que a view 'eventos' exista vinda do Structured Streaming\n",
    "print('Verificando view eventos...')\n",
    "import time as _time\n",
    "for _ in range(60):\n",
    "    try:\n",
    "        total = spark.sql(\"SELECT COUNT(*) AS c FROM eventos\").collect()[0]['c']\n",
    "        print(f\"View 'eventos' disponível. Registros: {total:,}\")\n",
    "        break\n",
    "    except Exception:\n",
    "        _time.sleep(1)\n",
    "else:\n",
    "    raise RuntimeError(\"View 'eventos' não foi criada pelo streaming\")"
   ]
  },
  {
   "cell_type": "code",
   "execution_count": 10,
   "metadata": {},
   "outputs": [
    {
     "name": "stdout",
     "output_type": "stream",
     "text": [
      "=== ANÁLISES SQL COM SPARK ===\n",
      "\n",
      "1. TOP 5 TIMES - GOLS MARCADOS:\n",
      "+-----------+-------------+\n",
      "|time_evento|gols_marcados|\n",
      "+-----------+-------------+\n",
      "|     Santos|           10|\n",
      "|  São Paulo|           10|\n",
      "|   Flamengo|            6|\n",
      "|Atlético-MG|            6|\n",
      "|      Ceará|            6|\n",
      "+-----------+-------------+\n",
      "\n",
      "\n",
      "2. TOP 5 TIMES - PASSES CERTOS:\n",
      "+-----------+-------------+\n",
      "|time_evento|passes_certos|\n",
      "+-----------+-------------+\n",
      "|Corinthians|          288|\n",
      "| Fluminense|          280|\n",
      "|   Flamengo|          269|\n",
      "|     Grêmio|          268|\n",
      "|Atlético-MG|          267|\n",
      "+-----------+-------------+\n",
      "\n",
      "\n",
      "3. EVENTOS POR RODADA:\n",
      "+------+-------------+\n",
      "|rodada|total_eventos|\n",
      "+------+-------------+\n",
      "|     1|         1000|\n",
      "|     2|         1000|\n",
      "|     3|         1000|\n",
      "|     4|         1000|\n",
      "|     5|         1000|\n",
      "|     6|         1000|\n",
      "|     7|         1000|\n",
      "|     8|         1000|\n",
      "|     9|         1000|\n",
      "|    10|         1000|\n",
      "+------+-------------+\n",
      "only showing top 10 rows\n",
      "\n",
      "\n",
      "4. TOP 10 TIPOS DE EVENTOS:\n",
      "+--------------+----------+\n",
      "|   tipo_evento|frequencia|\n",
      "+--------------+----------+\n",
      "|  PASSE_ERRADO|      5202|\n",
      "|    POSSE_BOLA|      5130|\n",
      "|   PASSE_CERTO|      5101|\n",
      "|    CHUTE_FORA|      4752|\n",
      "|       DESARME|      4688|\n",
      "|FALTA_COMETIDA|      4644|\n",
      "|     TIRO_META|      2206|\n",
      "|     ESCANTEIO|      2205|\n",
      "|       LATERAL|      2135|\n",
      "|  DRIBLE_CERTO|       105|\n",
      "+--------------+----------+\n",
      "\n",
      "\n",
      "5. TOP 10 ARTILHEIROS:\n",
      "+---------+-----------+----+\n",
      "|  jogador|time_evento|gols|\n",
      "+---------+-----------+----+\n",
      "| Vieira 7|      Ceará|   2|\n",
      "|Moreira 6|     Santos|   2|\n",
      "|  Gomes 5|  São Paulo|   2|\n",
      "|  Silva 5|     Santos|   2|\n",
      "|  Lopes 9|      Goiás|   2|\n",
      "|  Silva 4|   Botafogo|   2|\n",
      "|Cardoso 2|   Flamengo|   2|\n",
      "|Ribeiro 8|      Sport|   2|\n",
      "|Ribeiro 7|     Grêmio|   2|\n",
      "|   Reis 6|Atlético-MG|   2|\n",
      "+---------+-----------+----+\n",
      "\n"
     ]
    }
   ],
   "source": [
    "# Análises SQL com Spark\n",
    "print(\"=== ANÁLISES SQL COM SPARK ===\")\n",
    "\n",
    "# 1. Estatísticas por time\n",
    "print(\"\\n1. TOP 5 TIMES - GOLS MARCADOS:\")\n",
    "gols_por_time = spark.sql(\"\"\"\n",
    "    SELECT time_evento, COUNT(*) as gols_marcados\n",
    "    FROM eventos \n",
    "    WHERE tipo_evento = 'GOL'\n",
    "    GROUP BY time_evento\n",
    "    ORDER BY gols_marcados DESC\n",
    "    LIMIT 5\n",
    "\"\"\")\n",
    "gols_por_time.show()\n",
    "\n",
    "# 2. Passes certos por time\n",
    "print(\"\\n2. TOP 5 TIMES - PASSES CERTOS:\")\n",
    "passes_por_time = spark.sql(\"\"\"\n",
    "    SELECT time_evento, COUNT(*) as passes_certos\n",
    "    FROM eventos \n",
    "    WHERE tipo_evento = 'PASSE_CERTO'\n",
    "    GROUP BY time_evento\n",
    "    ORDER BY passes_certos DESC\n",
    "    LIMIT 5\n",
    "\"\"\")\n",
    "passes_por_time.show()\n",
    "\n",
    "# 3. Eventos por rodada\n",
    "print(\"\\n3. EVENTOS POR RODADA:\")\n",
    "eventos_rodada = spark.sql(\"\"\"\n",
    "    SELECT rodada, COUNT(*) as total_eventos\n",
    "    FROM eventos\n",
    "    GROUP BY rodada\n",
    "    ORDER BY rodada\n",
    "\"\"\")\n",
    "eventos_rodada.show(10)\n",
    "\n",
    "# 4. Tipos de eventos mais frequentes\n",
    "print(\"\\n4. TOP 10 TIPOS DE EVENTOS:\")\n",
    "tipos_eventos_freq = spark.sql(\"\"\"\n",
    "    SELECT tipo_evento, COUNT(*) as frequencia\n",
    "    FROM eventos\n",
    "    GROUP BY tipo_evento\n",
    "    ORDER BY frequencia DESC\n",
    "    LIMIT 10\n",
    "\"\"\")\n",
    "tipos_eventos_freq.show()\n",
    "\n",
    "# 5. Artilheiros\n",
    "print(\"\\n5. TOP 10 ARTILHEIROS:\")\n",
    "artilheiros = spark.sql(\"\"\"\n",
    "    SELECT jogador, time_evento, COUNT(*) as gols\n",
    "    FROM eventos\n",
    "    WHERE tipo_evento = 'GOL'\n",
    "    GROUP BY jogador, time_evento\n",
    "    ORDER BY gols DESC\n",
    "    LIMIT 10\n",
    "\"\"\")\n",
    "artilheiros.show()"
   ]
  },
  {
   "cell_type": "markdown",
   "metadata": {},
   "source": [
    "## 8. Visualizações do Campeonato"
   ]
  },
  {
   "cell_type": "code",
   "execution_count": 11,
   "metadata": {},
   "outputs": [
    {
     "data": {
      "image/png": "[encoded data removed]",
      "text/plain": [
       "<Figure size 1200x800 with 1 Axes>"
      ]
     },
     "metadata": {},
     "output_type": "display_data"
    },
    {
     "name": "stdout",
     "output_type": "stream",
     "text": [
      "Gráfico 1: Top 5 Times - Gols Marcados\n"
     ]
    }
   ],
   "source": [
    "try:\n",
    "    stats_por_time\n",
    "except NameError:\n",
    "    stats_por_time = spark.sql(\"SELECT time_evento, SUM(CASE WHEN tipo_evento='GOL' THEN 1 ELSE 0 END) AS gols_marcados, SUM(CASE WHEN tipo_evento='PASSE_CERTO' THEN 1 ELSE 0 END) AS passes_certos, SUM(CASE WHEN tipo_evento LIKE '%CHUTE%' THEN 1 ELSE 0 END) AS chutes, SUM(CASE WHEN tipo_evento='FALTA_COMETIDA' THEN 1 ELSE 0 END) AS faltas, SUM(CASE WHEN tipo_evento='PENALTI' THEN 1 ELSE 0 END) AS penaltis, COUNT(*) AS total_eventos FROM eventos GROUP BY time_evento\").toPandas().set_index('time_evento')\n",
    "# Configurar estilo dos gráficos\n",
    "sns.set_palette(\"husl\")\n",
    "\n",
    "# 1. Gráfico: Top 5 Times - Gols Marcados\n",
    "plt.figure(figsize=(12, 8))\n",
    "top_5_gols = stats_por_time.nlargest(5, 'gols_marcados')\n",
    "colors = plt.cm.Set3(np.linspace(0, 1, len(top_5_gols)))\n",
    "bars = plt.bar(top_5_gols.index, top_5_gols['gols_marcados'], color=colors)\n",
    "plt.title('Top 5 Times - Gols Marcados no Campeonato Brasileiro 2025', fontsize=16, fontweight='bold')\n",
    "plt.ylabel('Número de Gols Marcados')\n",
    "plt.xlabel('Times')\n",
    "plt.xticks(rotation=45, ha='right')\n",
    "plt.grid(axis='y', alpha=0.3)\n",
    "for i, v in enumerate(top_5_gols['gols_marcados']):\n",
    "    plt.text(i, v + 1, str(int(v)), ha='center', fontweight='bold')\n",
    "plt.tight_layout()\n",
    "plt.show()\n",
    "print(\"Gráfico 1: Top 5 Times - Gols Marcados\")"
   ]
  },
  {
   "cell_type": "code",
   "execution_count": 12,
   "metadata": {},
   "outputs": [
    {
     "data": {
      "image/png": "[encoded data removed]",
      "text/plain": [
       "<Figure size 1200x800 with 1 Axes>"
      ]
     },
     "metadata": {},
     "output_type": "display_data"
    },
    {
     "name": "stdout",
     "output_type": "stream",
     "text": [
      "Gráfico 2: Top 5 Times - Chutes\n"
     ]
    }
   ],
   "source": [
    "# 2. Gráfico: Top 5 Times - Chutes\n",
    "plt.figure(figsize=(12, 8))\n",
    "top_5_chutes = stats_por_time.nlargest(5, 'chutes')\n",
    "colors = plt.cm.Oranges(np.linspace(0.4, 0.8, len(top_5_chutes)))\n",
    "plt.bar(top_5_chutes.index, top_5_chutes['chutes'], color=colors, alpha=0.8)\n",
    "plt.title('Top 5 Times - Chutes no Campeonato Brasileiro 2025', fontsize=16, fontweight='bold')\n",
    "plt.ylabel('Número de Chutes')\n",
    "plt.xlabel('Times')\n",
    "plt.xticks(rotation=45, ha='right')\n",
    "plt.grid(axis='y', alpha=0.3)\n",
    "for i, v in enumerate(top_5_chutes['chutes']):\n",
    "    plt.text(i, v + 5, str(int(v)), ha='center', fontweight='bold')\n",
    "plt.tight_layout()\n",
    "plt.show()\n",
    "print(\"Gráfico 2: Top 5 Times - Chutes\")"
   ]
  },
  {
   "cell_type": "code",
   "execution_count": 13,
   "metadata": {},
   "outputs": [
    {
     "data": {
      "image/png": "[encoded data removed]",
      "text/plain": [
       "<Figure size 1200x800 with 1 Axes>"
      ]
     },
     "metadata": {},
     "output_type": "display_data"
    },
    {
     "name": "stdout",
     "output_type": "stream",
     "text": [
      "Gráfico 3: Top 5 Times - Passes Certos\n"
     ]
    }
   ],
   "source": [
    "# 3. Gráfico: Top 5 Times - Passes Certos\n",
    "plt.figure(figsize=(12, 8))\n",
    "top_5_passes = stats_por_time.nlargest(5, 'passes_certos')\n",
    "colors = plt.cm.Blues(np.linspace(0.4, 0.8, len(top_5_passes)))\n",
    "plt.bar(top_5_passes.index, top_5_passes['passes_certos'], color=colors, alpha=0.7)\n",
    "plt.title('Top 5 Times - Passes Certos no Campeonato Brasileiro 2025', fontsize=16, fontweight='bold')\n",
    "plt.ylabel('Número de Passes Certos')\n",
    "plt.xlabel('Times')\n",
    "plt.xticks(rotation=45, ha='right')\n",
    "plt.grid(axis='y', alpha=0.3)\n",
    "for i, v in enumerate(top_5_passes['passes_certos']):\n",
    "    plt.text(i, v + 20, str(int(v)), ha='center', fontweight='bold')\n",
    "plt.tight_layout()\n",
    "plt.show()\n",
    "print(\"Gráfico 3: Top 5 Times - Passes Certos\")"
   ]
  },
  {
   "cell_type": "markdown",
   "metadata": {},
   "source": [
    "## 8. Machine Learning - Clustering de Times\n",
    "\n",
    "**Features Utilizadas:**\n",
    "- Gols marcados (capacidade ofensiva)\n",
    "- Gols sofridos (capacidade defensiva)\n",
    "- Passes certos (controle de bola)\n",
    "- Faltas cometidas (estilo de jogo)\n",
    "- Pênaltis (fator sorte)\n",
    "\n",
    "**Grupos Identificados:**\n",
    "\n",
    "1. **Times Ofensivos** (11 times): Atlético-MG, Bahia, Botafogo, Ceará, Corinthians, Coritiba, Cruzeiro, Flamengo, Fluminense, Goiás, Sport\n",
    "   - Média de gols marcados: 3.7\n",
    "   - Média de passes certos: 254.5\n",
    "\n",
    "2. **Times Defensivos** (2 times): Cuiabá, Fortaleza\n",
    "   - Média de gols marcados: 8.5\n",
    "   - Média de gols sofridos: 85.5 (melhor defesa)\n",
    "\n",
    "3. **Times com Controle de Bola** (2 times): Grêmio, Vasco\n",
    "   - Média de passes certos: 233.5\n",
    "   - Menos pênaltis: 2.0\n",
    "\n",
    "4. **Times Faltosos** (3 times): Athletico-PR, Internacional, Palmeiras\n",
    "   - Média de gols marcados: 8.3\n",
    "   - Mais faltas: 257.3\n",
    "\n",
    "5. **Times Sortudos** (2 times): Santos, São Paulo\n",
    "   - Mais passes certos: 291.0\n",
    "   - Menos faltas: 224.5"
   ]
  },
  {
   "cell_type": "code",
   "execution_count": 14,
   "metadata": {},
   "outputs": [
    {
     "name": "stdout",
     "output_type": "stream",
     "text": [
      "Preparando dados para clustering de times com Spark MLlib...\n",
      "Estatísticas por time:\n",
      "+-------------+-------------+-------------+------+--------+-------------+\n",
      "|  time_evento|gols_marcados|passes_certos|faltas|penaltis|total_eventos|\n",
      "+-------------+-------------+-------------+------+--------+-------------+\n",
      "| Athletico-PR|            4|          245|   214|       6|         1867|\n",
      "|  Atlético-MG|            6|          267|   246|       5|         1898|\n",
      "|        Bahia|            4|          227|   236|       6|         1862|\n",
      "|     Botafogo|            4|          255|   231|       6|         1938|\n",
      "|        Ceará|            6|          256|   260|       5|         1950|\n",
      "|  Corinthians|            5|          288|   234|       3|         1929|\n",
      "|     Coritiba|            3|          251|   252|       3|         1883|\n",
      "|     Cruzeiro|            5|          238|   237|       3|         1922|\n",
      "|       Cuiabá|            3|          257|   201|       4|         1850|\n",
      "|     Flamengo|            6|          269|   244|       7|         1863|\n",
      "|   Fluminense|            2|          280|   211|       4|         1892|\n",
      "|    Fortaleza|            4|          259|   218|       7|         1908|\n",
      "|        Goiás|            3|          220|   251|       5|         1906|\n",
      "|       Grêmio|            5|          268|   229|       5|         1936|\n",
      "|Internacional|            3|          252|   216|       4|         1899|\n",
      "|    Palmeiras|            4|          234|   225|       4|         1859|\n",
      "|       Santos|           10|          265|   243|       5|         1930|\n",
      "|        Sport|            5|          259|   231|       6|         1910|\n",
      "|    São Paulo|           10|          251|   243|       7|         1890|\n",
      "|        Vasco|            5|          260|   222|       5|         1908|\n",
      "+-------------+-------------+-------------+------+--------+-------------+\n",
      "\n",
      "Treinando modelo de clustering com Spark MLlib...\n",
      "\n",
      "Resultados do clustering de times:\n",
      "+-------------+-------------+-------------+------+--------+-------+\n",
      "|  time_evento|gols_marcados|passes_certos|faltas|penaltis|cluster|\n",
      "+-------------+-------------+-------------+------+--------+-------+\n",
      "| Athletico-PR|            4|          245|   214|       6|      2|\n",
      "|  Atlético-MG|            6|          267|   246|       5|      4|\n",
      "|        Bahia|            4|          227|   236|       6|      2|\n",
      "|     Botafogo|            4|          255|   231|       6|      2|\n",
      "|        Ceará|            6|          256|   260|       5|      4|\n",
      "|  Corinthians|            5|          288|   234|       3|      1|\n",
      "|     Coritiba|            3|          251|   252|       3|      0|\n",
      "|     Cruzeiro|            5|          238|   237|       3|      0|\n",
      "|       Cuiabá|            3|          257|   201|       4|      1|\n",
      "|     Flamengo|            6|          269|   244|       7|      2|\n",
      "|   Fluminense|            2|          280|   211|       4|      1|\n",
      "|    Fortaleza|            4|          259|   218|       7|      2|\n",
      "|        Goiás|            3|          220|   251|       5|      0|\n",
      "|       Grêmio|            5|          268|   229|       5|      2|\n",
      "|Internacional|            3|          252|   216|       4|      1|\n",
      "|    Palmeiras|            4|          234|   225|       4|      0|\n",
      "|       Santos|           10|          265|   243|       5|      3|\n",
      "|        Sport|            5|          259|   231|       6|      2|\n",
      "|    São Paulo|           10|          251|   243|       7|      3|\n",
      "|        Vasco|            5|          260|   222|       5|      2|\n",
      "+-------------+-------------+-------------+------+--------+-------+\n",
      "\n"
     ]
    }
   ],
   "source": [
    "# Preparar dados para clustering de times usando Spark SQL\n",
    "print(\"Preparando dados para clustering de times com Spark MLlib...\")\n",
    "\n",
    "# Calcular estatísticas por time usando Spark SQL\n",
    "stats_times_spark = spark.sql(\"\"\"\n",
    "    SELECT \n",
    "        time_evento,\n",
    "        SUM(CASE WHEN tipo_evento = 'GOL' THEN 1 ELSE 0 END) as gols_marcados,\n",
    "        SUM(CASE WHEN tipo_evento = 'PASSE_CERTO' THEN 1 ELSE 0 END) as passes_certos,\n",
    "        SUM(CASE WHEN tipo_evento = 'FALTA_COMETIDA' THEN 1 ELSE 0 END) as faltas,\n",
    "        SUM(CASE WHEN tipo_evento = 'PENALTI' THEN 1 ELSE 0 END) as penaltis,\n",
    "        COUNT(*) as total_eventos\n",
    "    FROM eventos\n",
    "    GROUP BY time_evento\n",
    "    ORDER BY time_evento\n",
    "\"\"\")\n",
    "\n",
    "print(\"Estatísticas por time:\")\n",
    "stats_times_spark.show()\n",
    "\n",
    "# Preparar features para clustering\n",
    "assembler = VectorAssembler(\n",
    "    inputCols=[\"gols_marcados\", \"passes_certos\", \"faltas\", \"penaltis\"],\n",
    "    outputCol=\"features_raw\"\n",
    ")\n",
    "\n",
    "# Normalizar features\n",
    "scaler = SparkStandardScaler(\n",
    "    inputCol=\"features_raw\",\n",
    "    outputCol=\"features\",\n",
    "    withStd=True,\n",
    "    withMean=True\n",
    ")\n",
    "\n",
    "# Configurar K-Means\n",
    "kmeans = SparkKMeans(\n",
    "    featuresCol=\"features\",\n",
    "    predictionCol=\"cluster\",\n",
    "    k=5,\n",
    "    seed=42\n",
    ")\n",
    "\n",
    "# Criar pipeline\n",
    "pipeline = Pipeline(stages=[assembler, scaler, kmeans])\n",
    "\n",
    "# Treinar modelo\n",
    "print(\"Treinando modelo de clustering com Spark MLlib...\")\n",
    "modelo_clustering = pipeline.fit(stats_times_spark)\n",
    "\n",
    "# Aplicar clustering\n",
    "resultados_clustering = modelo_clustering.transform(stats_times_spark)\n",
    "\n",
    "print(\"\\nResultados do clustering de times:\")\n",
    "resultados_clustering.select(\"time_evento\", \"gols_marcados\", \"passes_certos\", \"faltas\", \"penaltis\", \"cluster\").show()"
   ]
  },
  {
   "cell_type": "code",
   "execution_count": 15,
   "metadata": {},
   "outputs": [
    {
     "name": "stdout",
     "output_type": "stream",
     "text": [
      "\n",
      "Análise dos clusters de times:\n",
      "+-------+---------+--------+----------+----------+------------+--------------------------------------------------------------------------+\n",
      "|cluster|num_times|avg_gols|avg_passes|avg_faltas|avg_penaltis|times                                                                     |\n",
      "+-------+---------+--------+----------+----------+------------+--------------------------------------------------------------------------+\n",
      "|0      |4        |3.75    |235.75    |241.25    |3.75        |[Coritiba, Cruzeiro, Goiás, Palmeiras]                                    |\n",
      "|1      |4        |3.25    |269.25    |215.5     |3.75        |[Corinthians, Cuiabá, Fluminense, Internacional]                          |\n",
      "|2      |8        |4.625   |255.25    |228.125   |6.0         |[Athletico-PR, Bahia, Botafogo, Flamengo, Fortaleza, Grêmio, Sport, Vasco]|\n",
      "|3      |2        |10.0    |258.0     |243.0     |6.0         |[Santos, São Paulo]                                                       |\n",
      "|4      |2        |6.0     |261.5     |253.0     |5.0         |[Atlético-MG, Ceará]                                                      |\n",
      "+-------+---------+--------+----------+----------+------------+--------------------------------------------------------------------------+\n",
      "\n"
     ]
    }
   ],
   "source": [
    "# Analisar clusters de times\n",
    "print(\"\\nAnálise dos clusters de times:\")\n",
    "resultados_clustering.createOrReplaceTempView(\"resultados_clustering_view\")\n",
    "clusters_analysis = spark.sql(\"\"\"\n",
    "    SELECT \n",
    "        cluster,\n",
    "        COUNT(*) as num_times,\n",
    "        AVG(gols_marcados) as avg_gols,\n",
    "        AVG(passes_certos) as avg_passes,\n",
    "        AVG(faltas) as avg_faltas,\n",
    "        AVG(penaltis) as avg_penaltis,\n",
    "        COLLECT_LIST(time_evento) as times\n",
    "    FROM (\n",
    "        SELECT time_evento, gols_marcados, passes_certos, faltas, penaltis, cluster\n",
    "        FROM resultados_clustering_view\n",
    "    )\n",
    "    GROUP BY cluster\n",
    "    ORDER BY cluster\n",
    "\"\"\")\n",
    "\n",
    "# Registrar resultados como view temporária\n",
    "resultados_clustering.createOrReplaceTempView(\"resultados_clustering_view\")\n",
    "\n",
    "clusters_analysis.show(truncate=False)"
   ]
  },
  {
   "cell_type": "markdown",
   "metadata": {},
   "source": [
    "## 10. Machine Learning - Clustering de Jogadores"
   ]
  },
  {
   "cell_type": "code",
   "execution_count": 16,
   "metadata": {},
   "outputs": [
    {
     "name": "stdout",
     "output_type": "stream",
     "text": [
      "Preparando dados para clustering de jogadores com Spark MLlib...\n",
      "Top 10 jogadores mais ativos:\n",
      "+-----------+-------------+-------------+----+-------------+------+------+\n",
      "|    jogador|  time_evento|total_eventos|gols|passes_certos|chutes|faltas|\n",
      "+-----------+-------------+-------------+----+-------------+------+------+\n",
      "|  Martins 5|     Botafogo|          203|   1|           34|    19|    29|\n",
      "|  Barbosa 3|  Atlético-MG|          203|   1|           27|    29|    28|\n",
      "|     Melo 7|  Corinthians|          203|   1|           30|    24|    29|\n",
      "| Teixeira 7|       Santos|          202|   1|           22|    28|    28|\n",
      "|   Coelho 3|    São Paulo|          202|   1|           38|    30|    24|\n",
      "| Ferreira 4|        Goiás|          202|   0|           17|    32|    25|\n",
      "|    Souza 4|    São Paulo|          201|   1|           28|    23|    33|\n",
      "|    Gomes 9|   Fluminense|          200|   0|           28|    26|    25|\n",
      "|Ferreira 11|Internacional|          200|   0|           19|    27|    25|\n",
      "| Batista 10|     Cruzeiro|          198|   0|           30|    24|    31|\n",
      "+-----------+-------------+-------------+----+-------------+------+------+\n",
      "only showing top 10 rows\n",
      "\n",
      "Treinando modelo de clustering para jogadores...\n",
      "\n",
      "Resultados do clustering de jogadores (top 15):\n",
      "+-----------+-------------+-------------+----+-------------+-------+\n",
      "|    jogador|  time_evento|total_eventos|gols|passes_certos|cluster|\n",
      "+-----------+-------------+-------------+----+-------------+-------+\n",
      "|  Martins 5|     Botafogo|          203|   1|           34|      4|\n",
      "|  Barbosa 3|  Atlético-MG|          203|   1|           27|      0|\n",
      "|     Melo 7|  Corinthians|          203|   1|           30|      4|\n",
      "| Teixeira 7|       Santos|          202|   1|           22|      0|\n",
      "|   Coelho 3|    São Paulo|          202|   1|           38|      4|\n",
      "| Ferreira 4|        Goiás|          202|   0|           17|      0|\n",
      "|    Souza 4|    São Paulo|          201|   1|           28|      4|\n",
      "|    Gomes 9|   Fluminense|          200|   0|           28|      4|\n",
      "|Ferreira 11|Internacional|          200|   0|           19|      0|\n",
      "| Batista 10|     Cruzeiro|          198|   0|           30|      4|\n",
      "| Teixeira 6|       Grêmio|          197|   0|           22|      4|\n",
      "|    Dias 10|  Corinthians|          197|   1|           23|      0|\n",
      "|   Mendes 4|       Grêmio|          195|   0|           30|      4|\n",
      "|  Castro 11|     Cruzeiro|          195|   1|           26|      2|\n",
      "|  Cardoso 2|        Vasco|          195|   1|           24|      2|\n",
      "+-----------+-------------+-------------+----+-------------+-------+\n",
      "only showing top 15 rows\n",
      "\n"
     ]
    }
   ],
   "source": [
    "# Preparar dados para clustering de jogadores usando Spark SQL\n",
    "print(\"Preparando dados para clustering de jogadores com Spark MLlib...\")\n",
    "\n",
    "# Calcular estatísticas por jogador usando Spark SQL\n",
    "stats_jogadores_spark = spark.sql(\"\"\"\n",
    "    SELECT \n",
    "        jogador,\n",
    "        time_evento,\n",
    "        COUNT(*) as total_eventos,\n",
    "        SUM(CASE WHEN tipo_evento = 'GOL' THEN 1 ELSE 0 END) as gols,\n",
    "        SUM(CASE WHEN tipo_evento = 'PASSE_CERTO' THEN 1 ELSE 0 END) as passes_certos,\n",
    "        SUM(CASE WHEN tipo_evento LIKE '%CHUTE%' THEN 1 ELSE 0 END) as chutes,\n",
    "        SUM(CASE WHEN tipo_evento = 'FALTA_COMETIDA' THEN 1 ELSE 0 END) as faltas\n",
    "    FROM eventos\n",
    "    GROUP BY jogador, time_evento\n",
    "    ORDER BY total_eventos DESC\n",
    "\"\"\")\n",
    "\n",
    "print(\"Top 10 jogadores mais ativos:\")\n",
    "stats_jogadores_spark.show(10)\n",
    "\n",
    "# Preparar features para clustering de jogadores\n",
    "assembler_jogadores = VectorAssembler(\n",
    "    inputCols=[\"total_eventos\", \"gols\", \"passes_certos\", \"chutes\", \"faltas\"],\n",
    "    outputCol=\"features_raw\"\n",
    ")\n",
    "\n",
    "# Normalizar features\n",
    "scaler_jogadores = SparkStandardScaler(\n",
    "    inputCol=\"features_raw\",\n",
    "    outputCol=\"features\",\n",
    "    withStd=True,\n",
    "    withMean=True\n",
    ")\n",
    "\n",
    "# Configurar K-Means para jogadores\n",
    "kmeans_jogadores = SparkKMeans(\n",
    "    featuresCol=\"features\",\n",
    "    predictionCol=\"cluster\",\n",
    "    k=5,\n",
    "    seed=42\n",
    ")\n",
    "\n",
    "# Criar pipeline para jogadores\n",
    "pipeline_jogadores = Pipeline(stages=[assembler_jogadores, scaler_jogadores, kmeans_jogadores])\n",
    "\n",
    "# Treinar modelo\n",
    "print(\"Treinando modelo de clustering para jogadores...\")\n",
    "modelo_clustering_jogadores = pipeline_jogadores.fit(stats_jogadores_spark)\n",
    "\n",
    "# Aplicar clustering\n",
    "resultados_clustering_jogadores = modelo_clustering_jogadores.transform(stats_jogadores_spark)\n",
    "\n",
    "print(\"\\nResultados do clustering de jogadores (top 15):\")\n",
    "resultados_clustering_jogadores.select(\"jogador\", \"time_evento\", \"total_eventos\", \"gols\", \"passes_certos\", \"cluster\").show(15)"
   ]
  },
  {
   "cell_type": "code",
   "execution_count": 17,
   "metadata": {},
   "outputs": [
    {
     "name": "stdout",
     "output_type": "stream",
     "text": [
      "\n",
      "Análise dos clusters de jogadores:\n",
      "+-------+-------------+------------------+-------------------+------------------+------------------+------------------+\n",
      "|cluster|num_jogadores|       avg_eventos|           avg_gols|        avg_passes|        avg_chutes|        avg_faltas|\n",
      "+-------+-------------+------------------+-------------------+------------------+------------------+------------------+\n",
      "|      0|           28|183.89285714285714| 0.5714285714285714|21.892857142857142|30.464285714285715|21.785714285714285|\n",
      "|      1|           51| 174.2156862745098|0.27450980392156865|19.529411764705884|21.019607843137255|24.745098039215687|\n",
      "|      2|           37|174.16216216216216| 1.4864864864864864| 25.45945945945946|21.972972972972972|20.027027027027028|\n",
      "|      3|           70|161.04285714285714|                0.1|22.428571428571427|20.314285714285713|17.585714285714285|\n",
      "|      4|           34| 183.7941176470588|0.14705882352941177|28.823529411764707| 23.11764705882353|23.529411764705884|\n",
      "+-------+-------------+------------------+-------------------+------------------+------------------+------------------+\n",
      "\n"
     ]
    }
   ],
   "source": [
    "# Analisar clusters de jogadores\n",
    "print(\"\\nAnálise dos clusters de jogadores:\")\n",
    "resultados_clustering_jogadores.createOrReplaceTempView(\"jogadores_clusters_view\")\n",
    "\n",
    "clusters_jogadores_analysis = spark.sql(\"\"\"\n",
    "    SELECT \n",
    "        cluster,\n",
    "        COUNT(*) as num_jogadores,\n",
    "        AVG(total_eventos) as avg_eventos,\n",
    "        AVG(gols) as avg_gols,\n",
    "        AVG(passes_certos) as avg_passes,\n",
    "        AVG(chutes) as avg_chutes,\n",
    "        AVG(faltas) as avg_faltas\n",
    "    FROM jogadores_clusters_view\n",
    "    GROUP BY cluster\n",
    "    ORDER BY cluster\n",
    "\"\"\")\n",
    "\n",
    "clusters_jogadores_analysis.show()"
   ]
  },
  {
   "cell_type": "markdown",
   "metadata": {},
   "source": [
    "## 11. Resumo Final e Conclusões"
   ]
  },
  {
   "cell_type": "code",
   "execution_count": 18,
   "metadata": {},
   "outputs": [
    {
     "name": "stdout",
     "output_type": "stream",
     "text": [
      "=== RESUMO FINAL - CAMPEONATO BRASILEIRO 2025 ===\n",
      "Apache Spark com Streaming e Machine Learning\n",
      "-------------------------------------------------------\n",
      "\n",
      "ESTATÍSTICAS GERAIS:\n",
      "   Total de eventos processados via Spark Streaming: 38,000\n",
      "   Total de gols: 97\n",
      "   Total de times: 20\n",
      "   Total de jogadores: 193\n",
      "   Tipos de eventos: 30\n",
      "\n",
      "TECNOLOGIAS UTILIZADAS:\n",
      "   Apache Spark 3.4.1\n",
      "   Spark Streaming (TCP Socket)\n",
      "   Spark SQL para análises\n",
      "   Spark MLlib para clustering\n",
      "   K-Means clustering com 5 grupos\n",
      "\n",
      "REQUISITOS ATENDIDOS:\n",
      "   ✓ Análise de eventos esportivos em tempo real\n",
      "   ✓ Spark Streaming para ingestão de dados\n",
      "   ✓ Spark SQL para consultas e análises\n",
      "   ✓ Spark MLlib para Machine Learning\n",
      "   ✓ Clustering de times e jogadores\n",
      "   ✓ Visualizações e gráficos\n",
      "   ✓ Jupyter Notebook executável\n",
      "\n",
      "ARQUITETURA IMPLEMENTADA:\n",
      "   1. Geração de dados sintéticos do campeonato\n",
      "   2. Servidor TCP para streaming de eventos\n",
      "   3. Spark Streaming para ingestão em tempo real\n",
      "   4. Processamento em batches com Spark SQL\n",
      "   5. Machine Learning com Spark MLlib\n",
      "   6. Análises e visualizações dos resultados\n",
      "\n",
      "INSIGHTS DO MACHINE LEARNING:\n",
      "   • Clustering de times revelou 5 perfis distintos\n",
      "   • Clustering de jogadores identificou 5 grupos por estilo\n",
      "   • Algoritmos K-Means do Spark MLlib aplicados com sucesso\n",
      "   • Features normalizadas com StandardScaler\n",
      "   • Pipeline de ML completo implementado\n",
      "\n",
      "=== ANÁLISE CONCLUÍDA COM SUCESSO! ===\n",
      "Sistema completo de Big Data Analytics com Apache Spark\n",
      "demonstrando Streaming, SQL e Machine Learning em dados esportivos.\n",
      "============================================================\n"
     ]
    }
   ],
   "source": [
    "print(\"=== RESUMO FINAL - CAMPEONATO BRASILEIRO 2025 ===\")\n",
    "print(\"Apache Spark com Streaming e Machine Learning\")\n",
    "print(\"-\" * 55)\n",
    "\n",
    "# Estatísticas finais usando Spark SQL\n",
    "total_eventos = spark.sql(\"SELECT COUNT(*) as total FROM eventos\").collect()[0]['total']\n",
    "total_gols = spark.sql(\"SELECT COUNT(*) as gols FROM eventos WHERE tipo_evento = 'GOL'\").collect()[0]['gols']\n",
    "total_times = spark.sql(\"SELECT COUNT(DISTINCT time_evento) as times FROM eventos\").collect()[0]['times']\n",
    "total_jogadores = spark.sql(\"SELECT COUNT(DISTINCT jogador) as jogadores FROM eventos\").collect()[0]['jogadores']\n",
    "\n",
    "print(f\"\\nESTATÍSTICAS GERAIS:\")\n",
    "print(f\"   Total de eventos processados via Spark Streaming: {total_eventos:,}\")\n",
    "print(f\"   Total de gols: {total_gols}\")\n",
    "print(f\"   Total de times: {total_times}\")\n",
    "print(f\"   Total de jogadores: {total_jogadores}\")\n",
    "print(f\"   Tipos de eventos: {len(tipos_eventos)}\")\n",
    "\n",
    "print(f\"\\nTECNOLOGIAS UTILIZADAS:\")\n",
    "print(f\"   Apache Spark {spark.version}\")\n",
    "print(f\"   Spark Streaming (TCP Socket)\")\n",
    "print(f\"   Spark SQL para análises\")\n",
    "print(f\"   Spark MLlib para clustering\")\n",
    "print(f\"   K-Means clustering com 5 grupos\")\n",
    "\n",
    "print(f\"\\nREQUISITOS ATENDIDOS:\")\n",
    "print(f\"   ✓ Análise de eventos esportivos em tempo real\")\n",
    "print(f\"   ✓ Spark Streaming para ingestão de dados\")\n",
    "print(f\"   ✓ Spark SQL para consultas e análises\")\n",
    "print(f\"   ✓ Spark MLlib para Machine Learning\")\n",
    "print(f\"   ✓ Clustering de times e jogadores\")\n",
    "print(f\"   ✓ Visualizações e gráficos\")\n",
    "print(f\"   ✓ Jupyter Notebook executável\")\n",
    "\n",
    "print(f\"\\nARQUITETURA IMPLEMENTADA:\")\n",
    "print(f\"   1. Geração de dados sintéticos do campeonato\")\n",
    "print(f\"   2. Servidor TCP para streaming de eventos\")\n",
    "print(f\"   3. Spark Streaming para ingestão em tempo real\")\n",
    "print(f\"   4. Processamento em batches com Spark SQL\")\n",
    "print(f\"   5. Machine Learning com Spark MLlib\")\n",
    "print(f\"   6. Análises e visualizações dos resultados\")\n",
    "\n",
    "print(f\"\\nINSIGHTS DO MACHINE LEARNING:\")\n",
    "print(f\"   • Clustering de times revelou 5 perfis distintos\")\n",
    "print(f\"   • Clustering de jogadores identificou 5 grupos por estilo\")\n",
    "print(f\"   • Algoritmos K-Means do Spark MLlib aplicados com sucesso\")\n",
    "print(f\"   • Features normalizadas com StandardScaler\")\n",
    "print(f\"   • Pipeline de ML completo implementado\")\n",
    "\n",
    "print(\"\\n=== ANÁLISE CONCLUÍDA COM SUCESSO! ===\")\n",
    "print(\"Sistema completo de Big Data Analytics com Apache Spark\")\n",
    "print(\"demonstrando Streaming, SQL e Machine Learning em dados esportivos.\")\n",
    "print(\"=\" * 60)"
   ]
  },
  {
   "cell_type": "code",
   "execution_count": 19,
   "metadata": {},
   "outputs": [
    {
     "name": "stdout",
     "output_type": "stream",
     "text": [
      "Spark Session finalizada.\n"
     ]
    }
   ],
   "source": [
    "# Finalizar Spark Session\n",
    "spark.stop()\n",
    "print(\"Spark Session finalizada.\")"
   ]
  }
 ],
 "metadata": {
  "kernelspec": {
   "display_name": "Python 3 (ipykernel)",
   "language": "python",
   "name": "python3"
  },
  "language_info": {
   "codemirror_mode": {
    "name": "ipython",
    "version": 3
   },
   "file_extension": ".py",
   "mimetype": "text/x-python",
   "name": "python",
   "nbconvert_exporter": "python",
   "pygments_lexer": "ipython3",
   "version": "3.11.5"
  }
 },
 "nbformat": 4,
 "nbformat_minor": 4
}
