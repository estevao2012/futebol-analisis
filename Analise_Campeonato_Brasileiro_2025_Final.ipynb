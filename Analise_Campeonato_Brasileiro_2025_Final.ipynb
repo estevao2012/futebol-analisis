{
 "cells": [
  {
   "cell_type": "markdown",
   "metadata": {},
   "source": [
    "# Análise do Campeonato Brasileiro 2025 com Apache Spark\n",
    "\n",
    "Objetivo: analisar eventos de partidas simuladas do Campeonato Brasileiro 2025 usando Spark SQL, Structured Streaming e ML.\n",
    "\n",
    "Dataset: dados sintéticos gerados neste notebook (20 times, 380 partidas, ~38.000 eventos).\n",
    "\n",
    "Streaming de eventos: publicação em arquivos JSON (file sink) e leitura com Structured Streaming (trigger once).\n",
    "\n",
    "Análises: agregações SQL, visualizações e clustering (times e jogadores) com Spark MLlib.\n"
   ]
  },
  {
   "cell_type": "markdown",
   "metadata": {},
   "source": [
    "## 1. Configuração do Ambiente Spark"
   ]
  },
  {
   "cell_type": "code",
   "execution_count": 1,
   "metadata": {},
   "outputs": [
    {
     "name": "stdout",
     "output_type": "stream",
     "text": [
      "Imports e configuração de gráficos concluídos\n"
     ]
    }
   ],
   "source": [
    "import findspark\n",
    "findspark.init()\n",
    "from pyspark.sql import SparkSession\n",
    "import pyspark.sql.functions as F\n",
    "import pyspark.sql.types as T\n",
    "from pyspark.ml.clustering import KMeans as SparkKMeans\n",
    "from pyspark.ml.feature import VectorAssembler, StandardScaler as SparkStandardScaler\n",
    "from pyspark.ml import Pipeline\n",
    "from pyspark.ml.evaluation import ClusteringEvaluator\n",
    "import pandas as pd\n",
    "import numpy as np\n",
    "import matplotlib.pyplot as plt\n",
    "import seaborn as sns\n",
    "from datetime import datetime, timedelta\n",
    "import random\n",
    "import uuid\n",
    "import time as _time\n",
    "import warnings\n",
    "import json\n",
    "import os\n",
    "import shutil\n",
    "import builtins\n",
    "plt.style.use('seaborn-v0_8')\n",
    "plt.rcParams['figure.figsize'] = (12, 8)\n",
    "plt.rcParams['font.size'] = 12\n",
    "warnings.filterwarnings('ignore')\n",
    "print(\"Imports e configuração de gráficos concluídos\")"
   ]
  },
  {
   "cell_type": "code",
   "execution_count": 2,
   "metadata": {},
   "outputs": [
    {
     "name": "stdout",
     "output_type": "stream",
     "text": [
      "Spark Session: 3.4.1\n",
      "App: CampeonatoBrasileiro2025\n",
      "Master: local[*]\n",
      "Spark UI: http://0d3ecf17ea82:4040\n"
     ]
    }
   ],
   "source": [
    "spark = SparkSession.builder \\\n",
    "    .appName(\"CampeonatoBrasileiro2025\") \\\n",
    "    .master(\"local[*]\") \\\n",
    "    .config(\"spark.ui.enabled\", \"true\") \\\n",
    "    .config(\"spark.ui.port\", \"4040\") \\\n",
    "    .config(\"spark.sql.adaptive.enabled\", \"true\") \\\n",
    "    .config(\"spark.sql.adaptive.coalescePartitions.enabled\", \"true\") \\\n",
    "    .getOrCreate()\n",
    "spark.sparkContext.setLogLevel(\"WARN\")\n",
    "print(f\"Spark Session: {spark.version}\")\n",
    "print(f\"App: {spark.sparkContext.appName}\")\n",
    "print(f\"Master: {spark.sparkContext.master}\")\n",
    "print(f\"Spark UI: {spark.sparkContext.uiWebUrl}\")"
   ]
  },
  {
   "cell_type": "markdown",
   "metadata": {},
   "source": [
    "## 2. Geração de Dados do Campeonato Brasileiro 2025"
   ]
  },
  {
   "cell_type": "code",
   "execution_count": 3,
   "metadata": {},
   "outputs": [
    {
     "name": "stdout",
     "output_type": "stream",
     "text": [
      "Times participantes: 20\n",
      "Tipos de eventos: 30\n",
      "Times: Flamengo, Palmeiras, São Paulo, Corinthians, Santos...\n"
     ]
    }
   ],
   "source": [
    "# 20 times do Brasileirão 2025\n",
    "times_brasileirao = [\n",
    "    'Flamengo', 'Palmeiras', 'São Paulo', 'Corinthians', 'Santos', 'Vasco',\n",
    "    'Botafogo', 'Fluminense', 'Atlético-MG', 'Cruzeiro', 'Internacional',\n",
    "    'Grêmio', 'Bahia', 'Sport', 'Fortaleza', 'Ceará', 'Athletico-PR',\n",
    "    'Coritiba', 'Goiás', 'Cuiabá'\n",
    "]\n",
    "\n",
    "# 30 tipos de eventos que acontecem em uma partida de futebol\n",
    "tipos_eventos = [\n",
    "    'GOL', 'ASSISTENCIA', 'CHUTE_GOL', 'CHUTE_FORA', 'CHUTE_DEFENDIDO',\n",
    "    'PASSE_CERTO', 'PASSE_ERRADO', 'PASSE_LONGO', 'CRUZAMENTO',\n",
    "    'FALTA_COMETIDA', 'FALTA_SOFRIDA', 'CARTAO_AMARELO', 'CARTAO_VERMELHO',\n",
    "    'IMPEDIMENTO', 'ESCANTEIO', 'LATERAL', 'TIRO_META', 'PENALTI',\n",
    "    'DEFESA_GOLEIRO', 'DESARME', 'INTERCEPTACAO', 'CABECADA',\n",
    "    'DRIBLE_CERTO', 'DRIBLE_ERRADO', 'SUBSTITUICAO', 'LESAO',\n",
    "    'COBRANCA_FALTA', 'COBRANCA_ESCANTEIO', 'COBRANCA_PENALTI', 'POSSE_BOLA'\n",
    "]\n",
    "\n",
    "print(f\"Times participantes: {len(times_brasileirao)}\")\n",
    "print(f\"Tipos de eventos: {len(tipos_eventos)}\")\n",
    "print(f\"Times: {', '.join(times_brasileirao[:5])}...\")"
   ]
  },
  {
   "cell_type": "markdown",
   "metadata": {},
   "source": [
    "## 3. Geração de Jogadores (11 por time)"
   ]
  },
  {
   "cell_type": "code",
   "execution_count": 4,
   "metadata": {},
   "outputs": [
    {
     "name": "stdout",
     "output_type": "stream",
     "text": [
      "Jogadores gerados: 20 times x 11 jogadores = 220 jogadores\n",
      "\n",
      "Exemplo - Jogadores do Flamengo:\n",
      "   1. Soares 1\n",
      "   2. Ribeiro 2\n",
      "   3. Barbosa 3\n",
      "   4. Nascimento 4\n",
      "   5. Monteiro 5\n",
      "   ...\n"
     ]
    }
   ],
   "source": [
    "# Gerar jogadores para cada time (11 jogadores por time)\n",
    "jogadores_por_time = {}\n",
    "nomes_jogadores = [\n",
    "    'Silva', 'Santos', 'Oliveira', 'Souza', 'Lima', 'Pereira', 'Costa', 'Rodrigues',\n",
    "    'Almeida', 'Nascimento', 'Carvalho', 'Araújo', 'Melo', 'Barbosa', 'Ribeiro',\n",
    "    'Martins', 'Rocha', 'Ferreira', 'Gomes', 'Dias', 'Moreira', 'Cardoso', 'Reis',\n",
    "    'Fernandes', 'Castro', 'Andrade', 'Machado', 'Freitas', 'Monteiro', 'Campos',\n",
    "    'Vieira', 'Ramos', 'Correia', 'Teixeira', 'Mendes', 'Nunes', 'Soares', 'Lopes',\n",
    "    'Pinto', 'Cunha', 'Fonseca', 'Morais', 'Batista', 'Guerreiro', 'Coelho'\n",
    "]\n",
    "\n",
    "for time in times_brasileirao:\n",
    "    # Gerar 11 jogadores únicos por time\n",
    "    nomes_time = random.sample(nomes_jogadores, 11)\n",
    "    jogadores_por_time[time] = [f\"{nome} {i+1}\" for i, nome in enumerate(nomes_time)]\n",
    "\n",
    "total_jogadores = len(times_brasileirao) * 11  # 20 times x 11 jogadores cada\n",
    "print(f\"Jogadores gerados: {len(jogadores_por_time)} times x 11 jogadores = {total_jogadores} jogadores\")\n",
    "\n",
    "# Mostrar exemplo de jogadores\n",
    "print(f\"\\nExemplo - Jogadores do Flamengo:\")\n",
    "for i, jogador in enumerate(jogadores_por_time['Flamengo'][:5]):\n",
    "    print(f\"   {i+1}. {jogador}\")\n",
    "print(\"   ...\")"
   ]
  },
  {
   "cell_type": "markdown",
   "metadata": {},
   "source": [
    "## 4. Geração de Partidas (38 rodadas sem repetição)"
   ]
  },
  {
   "cell_type": "code",
   "execution_count": 5,
   "metadata": {},
   "outputs": [
    {
     "name": "stdout",
     "output_type": "stream",
     "text": [
      "Partidas geradas: 380 jogos\n",
      "Período: 01/05/2025 a 15/01/2026\n",
      "Rodadas: 38\n"
     ]
    }
   ],
   "source": [
    "# Gerar todas as partidas do campeonato (38 rodadas)\n",
    "# Cada time joga contra todos os outros 2 vezes (casa e fora)\n",
    "partidas = []\n",
    "\n",
    "# Gerar todas as combinações possíveis\n",
    "todas_combinacoes = []\n",
    "for i, time_casa in enumerate(times_brasileirao):\n",
    "    for j, time_visitante in enumerate(times_brasileirao):\n",
    "        if i != j:  # Time não joga contra si mesmo\n",
    "            todas_combinacoes.append((time_casa, time_visitante))\n",
    "\n",
    "# Embaralhar as combinações\n",
    "random.shuffle(todas_combinacoes)\n",
    "\n",
    "# Distribuir em 38 rodadas (10 jogos por rodada)\n",
    "rodada = 1\n",
    "for i in range(0, len(todas_combinacoes), 10):\n",
    "    jogos_rodada = todas_combinacoes[i:i+10]\n",
    "    \n",
    "    # Determinar se é turno ou returno\n",
    "    turno = 'Primeiro' if rodada <= 19 else 'Segundo'\n",
    "    \n",
    "    for time_casa, time_visitante in jogos_rodada:\n",
    "        partidas.append({\n",
    "            'rodada': rodada,\n",
    "            'turno': turno,\n",
    "            'time_casa': time_casa,\n",
    "            'time_visitante': time_visitante,\n",
    "            'data': datetime(2025, 5, 1) + timedelta(days=(rodada-1)*7)\n",
    "        })\n",
    "    \n",
    "    rodada += 1\n",
    "    if rodada > 38:  # Limitar a 38 rodadas\n",
    "        break\n",
    "\n",
    "print(f\"Partidas geradas: {len(partidas)} jogos\")\n",
    "print(f\"Período: {partidas[0]['data'].strftime('%d/%m/%Y')} a {partidas[-1]['data'].strftime('%d/%m/%Y')}\")\n",
    "print(f\"Rodadas: {builtins.max(p['rodada'] for p in partidas)}\")"
   ]
  },
  {
   "cell_type": "markdown",
   "metadata": {},
   "source": [
    "## 3. Publicação de Eventos (File Sink)"
   ]
  },
  {
   "cell_type": "code",
   "execution_count": 6,
   "metadata": {},
   "outputs": [
    {
     "name": "stdout",
     "output_type": "stream",
     "text": [
      "Função de geração de eventos configurada\n"
     ]
    }
   ],
   "source": [
    "# Função para gerar eventos de futebol\n",
    "def gerar_evento_futebol(partida, jogadores_por_time, tipos_eventos):\n",
    "    \"\"\"Gera um evento de futebol para uma partida\"\"\"\n",
    "    # Escolher time (60% casa, 40% visitante)\n",
    "    if random.random() < 0.6:\n",
    "        time = partida['time_casa']\n",
    "    else:\n",
    "        time = partida['time_visitante']\n",
    "    \n",
    "    # Escolher jogador do time\n",
    "    jogador = random.choice(jogadores_por_time[time])\n",
    "    \n",
    "    # Tipo de evento (alguns mais frequentes que outros)\n",
    "    if random.random() < 0.4:\n",
    "        tipo_evento = random.choice(['PASSE_CERTO', 'PASSE_ERRADO', 'POSSE_BOLA'])\n",
    "    elif random.random() < 0.6:\n",
    "        tipo_evento = random.choice(['CHUTE_FORA', 'FALTA_COMETIDA', 'DESARME'])\n",
    "    elif random.random() < 0.7:\n",
    "        tipo_evento = random.choice(['ESCANTEIO', 'LATERAL', 'TIRO_META'])\n",
    "    else:\n",
    "        tipo_evento = random.choice(tipos_eventos)\n",
    "    \n",
    "    # Minuto da partida\n",
    "    minuto = random.randint(1, 90)\n",
    "    \n",
    "    # Timestamp atual\n",
    "    timestamp = datetime.now()\n",
    "    \n",
    "    evento = {\n",
    "        'id': str(uuid.uuid4())[:8],\n",
    "        'rodada': partida['rodada'],\n",
    "        'turno': partida['turno'],\n",
    "        'time_casa': partida['time_casa'],\n",
    "        'time_visitante': partida['time_visitante'],\n",
    "        'time_evento': time,\n",
    "        'jogador': jogador,\n",
    "        'tipo_evento': tipo_evento,\n",
    "        'minuto': minuto,\n",
    "        'timestamp': timestamp.isoformat(),\n",
    "        'data_partida': partida['data'].strftime('%Y-%m-%d')\n",
    "    }\n",
    "    \n",
    "    return json.dumps(evento)\n",
    "\n",
    "print(\"Função de geração de eventos configurada\")"
   ]
  },
  {
   "cell_type": "code",
   "execution_count": 7,
   "metadata": {},
   "outputs": [
    {
     "name": "stdout",
     "output_type": "stream",
     "text": [
      "Eventos publicados em data/stream_inbox: 38,000\n"
     ]
    }
   ],
   "source": [
    "INBOX_DIR = 'data/stream_inbox'\n",
    "CKPT_DIR = 'data/stream_ckpt'\n",
    "if os.path.exists(INBOX_DIR):\n",
    "    shutil.rmtree(INBOX_DIR)\n",
    "os.makedirs(INBOX_DIR, exist_ok=True)\n",
    "if os.path.exists(CKPT_DIR):\n",
    "    shutil.rmtree(CKPT_DIR)\n",
    "os.makedirs(CKPT_DIR, exist_ok=True)\n",
    "eventos_publicacao = []\n",
    "for partida in partidas:\n",
    "    for _ in range(100):\n",
    "        evento_json = gerar_evento_futebol(partida, jogadores_por_time, tipos_eventos)\n",
    "        eventos_publicacao.append(json.loads(evento_json))\n",
    "df_publicacao = spark.createDataFrame(eventos_publicacao)\n",
    "df_publicacao.coalesce(1).write.mode('overwrite').json(INBOX_DIR)\n",
    "print(f\"Eventos publicados em {INBOX_DIR}: {df_publicacao.count():,}\")"
   ]
  },
  {
   "cell_type": "markdown",
   "metadata": {},
   "source": [
    "## 4. Leitura dos Eventos (Structured Streaming, trigger once)"
   ]
  },
  {
   "cell_type": "code",
   "execution_count": 8,
   "metadata": {},
   "outputs": [
    {
     "name": "stdout",
     "output_type": "stream",
     "text": [
      "Eventos lidos do inbox: 38,000\n"
     ]
    }
   ],
   "source": [
    "evento_schema = T.StructType([\n",
    "    T.StructField('id', T.StringType(), True),\n",
    "    T.StructField('rodada', T.IntegerType(), True),\n",
    "    T.StructField('turno', T.StringType(), True),\n",
    "    T.StructField('time_casa', T.StringType(), True),\n",
    "    T.StructField('time_visitante', T.StringType(), True),\n",
    "    T.StructField('time_evento', T.StringType(), True),\n",
    "    T.StructField('jogador', T.StringType(), True),\n",
    "    T.StructField('tipo_evento', T.StringType(), True),\n",
    "    T.StructField('minuto', T.IntegerType(), True),\n",
    "    T.StructField('timestamp', T.StringType(), True),\n",
    "    T.StructField('data_partida', T.StringType(), True),\n",
    "])\n",
    "df_stream = spark.readStream.schema(evento_schema).json(INBOX_DIR)\n",
    "for q in spark.streams.active:\n",
    "    if q.name == 'eventos':\n",
    "        q.stop()\n",
    "query = df_stream.writeStream.outputMode('append').format('memory').queryName('eventos').option('checkpointLocation', CKPT_DIR).trigger(once=True).start()\n",
    "query.awaitTermination()\n",
    "total_eventos = spark.sql(\"SELECT COUNT(*) AS c FROM eventos\").collect()[0]['c']\n",
    "print(f\"Eventos lidos do inbox: {total_eventos:,}\")"
   ]
  },
  {
   "cell_type": "markdown",
   "metadata": {},
   "source": [
    "## 7. Análises SQL com Spark"
   ]
  },
  {
   "cell_type": "code",
   "execution_count": 9,
   "metadata": {},
   "outputs": [
    {
     "name": "stdout",
     "output_type": "stream",
     "text": [
      "Verificando view eventos...\n",
      "View 'eventos' disponível. Registros: 38,000\n"
     ]
    }
   ],
   "source": [
    "# Garantir que a view 'eventos' exista vinda do Structured Streaming\n",
    "print('Verificando view eventos...')\n",
    "import time as _time\n",
    "for _ in range(60):\n",
    "    try:\n",
    "        total = spark.sql(\"SELECT COUNT(*) AS c FROM eventos\").collect()[0]['c']\n",
    "        print(f\"View 'eventos' disponível. Registros: {total:,}\")\n",
    "        break\n",
    "    except Exception:\n",
    "        _time.sleep(1)\n",
    "else:\n",
    "    raise RuntimeError(\"View 'eventos' não foi criada pelo streaming\")"
   ]
  },
  {
   "cell_type": "code",
   "execution_count": 10,
   "metadata": {},
   "outputs": [
    {
     "name": "stdout",
     "output_type": "stream",
     "text": [
      "=== ANÁLISES SQL COM SPARK ===\n",
      "\n",
      "1. TOP 5 TIMES - GOLS MARCADOS:\n",
      "+-----------+-------------+\n",
      "|time_evento|gols_marcados|\n",
      "+-----------+-------------+\n",
      "|Corinthians|            8|\n",
      "|     Santos|            7|\n",
      "|      Vasco|            6|\n",
      "|      Bahia|            6|\n",
      "|  Fortaleza|            5|\n",
      "+-----------+-------------+\n",
      "\n",
      "\n",
      "2. TOP 5 TIMES - PASSES CERTOS:\n",
      "+------------+-------------+\n",
      "| time_evento|passes_certos|\n",
      "+------------+-------------+\n",
      "|       Bahia|          270|\n",
      "|    Botafogo|          269|\n",
      "|Athletico-PR|          269|\n",
      "|       Ceará|          266|\n",
      "| Atlético-MG|          264|\n",
      "+------------+-------------+\n",
      "\n",
      "\n",
      "4. TOP 10 TIPOS DE EVENTOS:\n",
      "+--------------+----------+\n",
      "|   tipo_evento|frequencia|\n",
      "+--------------+----------+\n",
      "|    POSSE_BOLA|      5213|\n",
      "|  PASSE_ERRADO|      5151|\n",
      "|   PASSE_CERTO|      5051|\n",
      "|       DESARME|      4713|\n",
      "|    CHUTE_FORA|      4693|\n",
      "|FALTA_COMETIDA|      4587|\n",
      "|     ESCANTEIO|      2324|\n",
      "|     TIRO_META|      2190|\n",
      "|       LATERAL|      2170|\n",
      "|       PENALTI|       115|\n",
      "+--------------+----------+\n",
      "\n",
      "\n",
      "5. TOP 10 ARTILHEIROS:\n",
      "+----------+-------------+----+\n",
      "|   jogador|  time_evento|gols|\n",
      "+----------+-------------+----+\n",
      "|  Nunes 11|        Bahia|   3|\n",
      "| Almeida 1|  Atlético-MG|   2|\n",
      "|Cardoso 10|       Cuiabá|   2|\n",
      "|   Melo 11|       Santos|   2|\n",
      "| Freitas 7|       Cuiabá|   2|\n",
      "|   Silva 9|    Fortaleza|   2|\n",
      "| Ribeiro 6|       Grêmio|   2|\n",
      "|Barbosa 10|  Corinthians|   2|\n",
      "|    Reis 1|Internacional|   2|\n",
      "|  Gomes 10|       Santos|   2|\n",
      "+----------+-------------+----+\n",
      "\n"
     ]
    }
   ],
   "source": [
    "# Análises SQL com Spark\n",
    "print(\"=== ANÁLISES SQL COM SPARK ===\")\n",
    "\n",
    "# 1. Estatísticas por time\n",
    "print(\"\\n1. TOP 5 TIMES - GOLS MARCADOS:\")\n",
    "gols_por_time = spark.sql(\"\"\"\n",
    "    SELECT time_evento, COUNT(*) as gols_marcados\n",
    "    FROM eventos \n",
    "    WHERE tipo_evento = 'GOL'\n",
    "    GROUP BY time_evento\n",
    "    ORDER BY gols_marcados DESC\n",
    "    LIMIT 5\n",
    "\"\"\")\n",
    "gols_por_time.show()\n",
    "\n",
    "# 2. Passes certos por time\n",
    "print(\"\\n2. TOP 5 TIMES - PASSES CERTOS:\")\n",
    "passes_por_time = spark.sql(\"\"\"\n",
    "    SELECT time_evento, COUNT(*) as passes_certos\n",
    "    FROM eventos \n",
    "    WHERE tipo_evento = 'PASSE_CERTO'\n",
    "    GROUP BY time_evento\n",
    "    ORDER BY passes_certos DESC\n",
    "    LIMIT 5\n",
    "\"\"\")\n",
    "passes_por_time.show()\n",
    "\n",
    "# 3. Tipos de eventos mais frequentes\n",
    "print(\"\\n4. TOP 10 TIPOS DE EVENTOS:\")\n",
    "tipos_eventos_freq = spark.sql(\"\"\"\n",
    "    SELECT tipo_evento, COUNT(*) as frequencia\n",
    "    FROM eventos\n",
    "    GROUP BY tipo_evento\n",
    "    ORDER BY frequencia DESC\n",
    "    LIMIT 10\n",
    "\"\"\")\n",
    "tipos_eventos_freq.show()\n",
    "\n",
    "# 4. artilheiros\n",
    "print(\"\\n5. TOP 10 ARTILHEIROS:\")\n",
    "artilheiros = spark.sql(\"\"\"\n",
    "    SELECT jogador, time_evento, COUNT(*) as gols\n",
    "    FROM eventos\n",
    "    WHERE tipo_evento = 'GOL'\n",
    "    GROUP BY jogador, time_evento\n",
    "    ORDER BY gols DESC\n",
    "    LIMIT 10\n",
    "\"\"\")\n",
    "artilheiros.show()"
   ]
  },
  {
   "cell_type": "markdown",
   "metadata": {},
   "source": [
    "## 8. Visualizações do Campeonato"
   ]
  },
  {
   "cell_type": "code",
   "execution_count": 11,
   "metadata": {},
   "outputs": [
    {
     "data": {
      "image/png": "[encoded data removed]",
      "text/plain": [
       "<Figure size 1200x800 with 1 Axes>"
      ]
     },
     "metadata": {},
     "output_type": "display_data"
    },
    {
     "name": "stdout",
     "output_type": "stream",
     "text": [
      "Gráfico 1: Top 5 Times - Gols Marcados\n"
     ]
    }
   ],
   "source": [
    "try:\n",
    "    stats_por_time\n",
    "except NameError:\n",
    "    stats_por_time = spark.sql(\"SELECT time_evento, SUM(CASE WHEN tipo_evento='GOL' THEN 1 ELSE 0 END) AS gols_marcados, SUM(CASE WHEN tipo_evento='PASSE_CERTO' THEN 1 ELSE 0 END) AS passes_certos, SUM(CASE WHEN tipo_evento LIKE '%CHUTE%' THEN 1 ELSE 0 END) AS chutes, SUM(CASE WHEN tipo_evento='FALTA_COMETIDA' THEN 1 ELSE 0 END) AS faltas, SUM(CASE WHEN tipo_evento='PENALTI' THEN 1 ELSE 0 END) AS penaltis, COUNT(*) AS total_eventos FROM eventos GROUP BY time_evento\").toPandas().set_index('time_evento')\n",
    "# Configurar estilo dos gráficos\n",
    "sns.set_palette(\"husl\")\n",
    "\n",
    "# 1. Gráfico: Top 5 Times - Gols Marcados\n",
    "plt.figure(figsize=(12, 8))\n",
    "top_5_gols = stats_por_time.nlargest(5, 'gols_marcados')\n",
    "colors = plt.cm.Set3(np.linspace(0, 1, len(top_5_gols)))\n",
    "bars = plt.bar(top_5_gols.index, top_5_gols['gols_marcados'], color=colors)\n",
    "plt.title('Top 5 Times - Gols Marcados no Campeonato Brasileiro 2025', fontsize=16, fontweight='bold')\n",
    "plt.ylabel('Número de Gols Marcados')\n",
    "plt.xlabel('Times')\n",
    "plt.xticks(rotation=45, ha='right')\n",
    "plt.grid(axis='y', alpha=0.3)\n",
    "for i, v in enumerate(top_5_gols['gols_marcados']):\n",
    "    plt.text(i, v + 1, str(int(v)), ha='center', fontweight='bold')\n",
    "plt.tight_layout()\n",
    "plt.show()\n",
    "print(\"Gráfico 1: Top 5 Times - Gols Marcados\")"
   ]
  },
  {
   "cell_type": "code",
   "execution_count": 12,
   "metadata": {},
   "outputs": [
    {
     "data": {
      "image/png": "[encoded data removed]",
      "text/plain": [
       "<Figure size 1200x800 with 1 Axes>"
      ]
     },
     "metadata": {},
     "output_type": "display_data"
    },
    {
     "name": "stdout",
     "output_type": "stream",
     "text": [
      "Gráfico 2: Top 5 Times - Chutes\n"
     ]
    }
   ],
   "source": [
    "# 2. Gráfico: Top 5 Times - Chutes\n",
    "plt.figure(figsize=(12, 8))\n",
    "top_5_chutes = stats_por_time.nlargest(5, 'chutes')\n",
    "colors = plt.cm.Oranges(np.linspace(0.4, 0.8, len(top_5_chutes)))\n",
    "plt.bar(top_5_chutes.index, top_5_chutes['chutes'], color=colors, alpha=0.8)\n",
    "plt.title('Top 5 Times - Chutes no Campeonato Brasileiro 2025', fontsize=16, fontweight='bold')\n",
    "plt.ylabel('Número de Chutes')\n",
    "plt.xlabel('Times')\n",
    "plt.xticks(rotation=45, ha='right')\n",
    "plt.grid(axis='y', alpha=0.3)\n",
    "for i, v in enumerate(top_5_chutes['chutes']):\n",
    "    plt.text(i, v + 5, str(int(v)), ha='center', fontweight='bold')\n",
    "plt.tight_layout()\n",
    "plt.show()\n",
    "print(\"Gráfico 2: Top 5 Times - Chutes\")"
   ]
  },
  {
   "cell_type": "code",
   "execution_count": 13,
   "metadata": {},
   "outputs": [
    {
     "data": {
      "image/png": "[encoded data removed]",
      "text/plain": [
       "<Figure size 1200x800 with 1 Axes>"
      ]
     },
     "metadata": {},
     "output_type": "display_data"
    },
    {
     "name": "stdout",
     "output_type": "stream",
     "text": [
      "Gráfico 3: Top 5 Times - Passes Certos\n"
     ]
    }
   ],
   "source": [
    "# 3. Gráfico: Top 5 Times - Passes Certos\n",
    "plt.figure(figsize=(12, 8))\n",
    "top_5_passes = stats_por_time.nlargest(5, 'passes_certos')\n",
    "colors = plt.cm.Blues(np.linspace(0.4, 0.8, len(top_5_passes)))\n",
    "plt.bar(top_5_passes.index, top_5_passes['passes_certos'], color=colors, alpha=0.7)\n",
    "plt.title('Top 5 Times - Passes Certos no Campeonato Brasileiro 2025', fontsize=16, fontweight='bold')\n",
    "plt.ylabel('Número de Passes Certos')\n",
    "plt.xlabel('Times')\n",
    "plt.xticks(rotation=45, ha='right')\n",
    "plt.grid(axis='y', alpha=0.3)\n",
    "for i, v in enumerate(top_5_passes['passes_certos']):\n",
    "    plt.text(i, v + 20, str(int(v)), ha='center', fontweight='bold')\n",
    "plt.tight_layout()\n",
    "plt.show()\n",
    "print(\"Gráfico 3: Top 5 Times - Passes Certos\")"
   ]
  },
  {
   "cell_type": "markdown",
   "metadata": {},
   "source": [
    "## 8. Machine Learning - Clustering de Times"
   ]
  },
  {
   "cell_type": "code",
   "execution_count": 14,
   "metadata": {},
   "outputs": [
    {
     "name": "stdout",
     "output_type": "stream",
     "text": [
      "Preparando dados para clustering de times com Spark MLlib...\n",
      "Treinando modelo de clustering com Spark MLlib...\n",
      "Silhouette (times): 0.1200\n",
      "\n",
      "Resultados do clustering de times:\n",
      "+-------------+-------------+-------------+----------------+--------+-------+\n",
      "|  time_evento|gols_marcados|passes_certos|faltas_cometidas|penaltis|cluster|\n",
      "+-------------+-------------+-------------+----------------+--------+-------+\n",
      "| Athletico-PR|            4|          269|             244|       3|      0|\n",
      "|  Atlético-MG|            4|          264|             214|       8|      4|\n",
      "|        Bahia|            6|          270|             191|       6|      4|\n",
      "|     Botafogo|            1|          269|             203|       9|      2|\n",
      "|        Ceará|            5|          266|             218|       3|      4|\n",
      "|  Corinthians|            8|          264|             257|       4|      3|\n",
      "|     Coritiba|            2|          253|             251|      11|      3|\n",
      "|     Cruzeiro|            2|          249|             207|       6|      0|\n",
      "|       Cuiabá|            5|          220|             243|       4|      1|\n",
      "|     Flamengo|            2|          210|             234|       6|      1|\n",
      "|   Fluminense|            1|          258|             233|       4|      2|\n",
      "|    Fortaleza|            5|          242|             227|       5|      4|\n",
      "|        Goiás|            2|          250|             237|       3|      3|\n",
      "|       Grêmio|            4|          240|             236|       7|      0|\n",
      "|Internacional|            5|          256|             225|       7|      4|\n",
      "|    Palmeiras|            5|          264|             218|       8|      4|\n",
      "|       Santos|            7|          254|             202|       6|      0|\n",
      "|        Sport|            2|          244|             256|       8|      3|\n",
      "|    São Paulo|            4|          260|             258|       3|      0|\n",
      "|        Vasco|            6|          249|             233|       4|      4|\n",
      "+-------------+-------------+-------------+----------------+--------+-------+\n",
      "\n"
     ]
    }
   ],
   "source": [
    "# Preparar dados para clustering de times usando Spark SQL\n",
    "print(\"Preparando dados para clustering de times com Spark MLlib...\")\n",
    "\n",
    "# Calcular estatísticas por time usando Spark SQL\n",
    "stats_times_spark = spark.sql(\"\"\"\n",
    "    SELECT \n",
    "        time_evento,\n",
    "        SUM(CASE WHEN tipo_evento = 'GOL' THEN 1 ELSE 0 END) as gols_marcados,\n",
    "        SUM(CASE WHEN tipo_evento = 'ASSISTENCIA' THEN 1 ELSE 0 END) as assistencias,\n",
    "        SUM(CASE WHEN tipo_evento = 'PASSE_CERTO' THEN 1 ELSE 0 END) as passes_certos,\n",
    "        SUM(CASE WHEN tipo_evento = 'PASSE_ERRADO' THEN 1 ELSE 0 END) as passes_errados,\n",
    "        SUM(CASE WHEN tipo_evento = 'PASSE_LONGO' THEN 1 ELSE 0 END) as passes_longos,\n",
    "        SUM(CASE WHEN tipo_evento = 'CRUZAMENTO' THEN 1 ELSE 0 END) as cruzamentos,\n",
    "        SUM(CASE WHEN tipo_evento = 'CHUTE_GOL' THEN 1 ELSE 0 END) as chutes_gol,\n",
    "        SUM(CASE WHEN tipo_evento = 'CHUTE_FORA' THEN 1 ELSE 0 END) as chutes_fora,\n",
    "        SUM(CASE WHEN tipo_evento = 'CHUTE_DEFENDIDO' THEN 1 ELSE 0 END) as chutes_defendidos,\n",
    "        SUM(CASE WHEN tipo_evento = 'FALTA_COMETIDA' THEN 1 ELSE 0 END) as faltas_cometidas,\n",
    "        SUM(CASE WHEN tipo_evento = 'FALTA_SOFRIDA' THEN 1 ELSE 0 END) as faltas_sofridas,\n",
    "        SUM(CASE WHEN tipo_evento = 'CARTAO_AMARELO' THEN 1 ELSE 0 END) as cartoes_amarelos,\n",
    "        SUM(CASE WHEN tipo_evento = 'CARTAO_VERMELHO' THEN 1 ELSE 0 END) as cartoes_vermelhos,\n",
    "        SUM(CASE WHEN tipo_evento = 'IMPEDIMENTO' THEN 1 ELSE 0 END) as impedimentos,\n",
    "        SUM(CASE WHEN tipo_evento = 'ESCANTEIO' THEN 1 ELSE 0 END) as escanteios,\n",
    "        SUM(CASE WHEN tipo_evento = 'LATERAL' THEN 1 ELSE 0 END) as laterais,\n",
    "        SUM(CASE WHEN tipo_evento = 'TIRO_META' THEN 1 ELSE 0 END) as tiros_meta,\n",
    "        SUM(CASE WHEN tipo_evento = 'PENALTI' THEN 1 ELSE 0 END) as penaltis,\n",
    "        SUM(CASE WHEN tipo_evento = 'DEFESA_GOLEIRO' THEN 1 ELSE 0 END) as defesas_goleiro,\n",
    "        SUM(CASE WHEN tipo_evento = 'DESARME' THEN 1 ELSE 0 END) as desarmes,\n",
    "        SUM(CASE WHEN tipo_evento = 'INTERCEPTACAO' THEN 1 ELSE 0 END) as interceptacoes,\n",
    "        SUM(CASE WHEN tipo_evento = 'CABECADA' THEN 1 ELSE 0 END) as cabecadas,\n",
    "        SUM(CASE WHEN tipo_evento = 'DRIBLE_CERTO' THEN 1 ELSE 0 END) as dribles_certos,\n",
    "        SUM(CASE WHEN tipo_evento = 'DRIBLE_ERRADO' THEN 1 ELSE 0 END) as dribles_errados,\n",
    "        SUM(CASE WHEN tipo_evento = 'COBRANCA_FALTA' THEN 1 ELSE 0 END) as cobrancas_falta,\n",
    "        SUM(CASE WHEN tipo_evento = 'COBRANCA_ESCANTEIO' THEN 1 ELSE 0 END) as cobrancas_escanteio,\n",
    "        SUM(CASE WHEN tipo_evento = 'COBRANCA_PENALTI' THEN 1 ELSE 0 END) as cobrancas_penalti,\n",
    "        SUM(CASE WHEN tipo_evento = 'POSSE_BOLA' THEN 1 ELSE 0 END) as posse_bola,\n",
    "        COUNT(*) as total_eventos,\n",
    "        CASE WHEN (SUM(CASE WHEN tipo_evento = 'PASSE_CERTO' THEN 1 ELSE 0 END)+SUM(CASE WHEN tipo_evento = 'PASSE_ERRADO' THEN 1 ELSE 0 END)) > 0 THEN CAST(SUM(CASE WHEN tipo_evento = 'PASSE_CERTO' THEN 1 ELSE 0 END) AS DOUBLE) / (SUM(CASE WHEN tipo_evento = 'PASSE_CERTO' THEN 1 ELSE 0 END)+SUM(CASE WHEN tipo_evento = 'PASSE_ERRADO' THEN 1 ELSE 0 END)) ELSE 0.0 END as taxa_acerto_passe,\n",
    "        CASE WHEN (SUM(CASE WHEN tipo_evento IN ('CHUTE_GOL','CHUTE_FORA','CHUTE_DEFENDIDO') THEN 1 ELSE 0 END)) > 0 THEN CAST(SUM(CASE WHEN tipo_evento = 'CHUTE_GOL' THEN 1 ELSE 0 END) AS DOUBLE) / SUM(CASE WHEN tipo_evento IN ('CHUTE_GOL','CHUTE_FORA','CHUTE_DEFENDIDO') THEN 1 ELSE 0 END) ELSE 0.0 END as taxa_chute_no_alvo,\n",
    "        CASE WHEN (SUM(CASE WHEN tipo_evento IN ('CHUTE_GOL','CHUTE_FORA','CHUTE_DEFENDIDO') THEN 1 ELSE 0 END)) > 0 THEN CAST(SUM(CASE WHEN tipo_evento = 'GOL' THEN 1 ELSE 0 END) AS DOUBLE) / SUM(CASE WHEN tipo_evento IN ('CHUTE_GOL','CHUTE_FORA','CHUTE_DEFENDIDO') THEN 1 ELSE 0 END) ELSE 0.0 END as taxa_conversao_chute,\n",
    "        CASE WHEN COUNT(*) > 0 THEN CAST(SUM(CASE WHEN tipo_evento = 'FALTA_COMETIDA' THEN 1 ELSE 0 END) AS DOUBLE) / COUNT(*) ELSE 0.0 END as proporcao_faltas,\n",
    "        CASE WHEN COUNT(*) > 0 THEN CAST(SUM(CASE WHEN tipo_evento = 'POSSE_BOLA' THEN 1 ELSE 0 END) AS DOUBLE) / COUNT(*) ELSE 0.0 END as proporcao_posse\n",
    "    FROM eventos\n",
    "    GROUP BY time_evento\n",
    "    ORDER BY time_evento\n",
    "\"\"\")\n",
    "\n",
    "# Preparar features para clustering\n",
    "assembler = VectorAssembler(\n",
    "    inputCols=[\"gols_marcados\", \"assistencias\", \"passes_certos\", \"passes_errados\", \"passes_longos\", \"cruzamentos\", \"chutes_gol\", \"chutes_fora\", \"chutes_defendidos\", \"faltas_cometidas\", \"faltas_sofridas\", \"cartoes_amarelos\", \"cartoes_vermelhos\", \"impedimentos\", \"escanteios\", \"laterais\", \"tiros_meta\", \"penaltis\", \"defesas_goleiro\", \"desarmes\", \"interceptacoes\", \"cabecadas\", \"dribles_certos\", \"dribles_errados\", \"cobrancas_falta\", \"cobrancas_escanteio\", \"cobrancas_penalti\", \"posse_bola\", \"total_eventos\", \"taxa_acerto_passe\", \"taxa_chute_no_alvo\", \"taxa_conversao_chute\", \"proporcao_faltas\", \"proporcao_posse\"],\n",
    "    outputCol=\"features_raw\"\n",
    ")\n",
    "\n",
    "# Normalizar features\n",
    "scaler = SparkStandardScaler(\n",
    "    inputCol=\"features_raw\",\n",
    "    outputCol=\"features\",\n",
    "    withStd=True,\n",
    "    withMean=True\n",
    ")\n",
    "\n",
    "# Configurar K-Means\n",
    "kmeans = SparkKMeans(\n",
    "    featuresCol=\"features\",\n",
    "    predictionCol=\"cluster\",\n",
    "    k=5,\n",
    "    seed=42\n",
    ")\n",
    "\n",
    "# Criar pipeline\n",
    "pipeline = Pipeline(stages=[assembler, scaler, kmeans])\n",
    "\n",
    "# Treinar modelo\n",
    "print(\"Treinando modelo de clustering com Spark MLlib...\")\n",
    "modelo_clustering = pipeline.fit(stats_times_spark)\n",
    "\n",
    "# Aplicar clustering\n",
    "resultados_clustering = modelo_clustering.transform(stats_times_spark)\n",
    "evaluator = ClusteringEvaluator(featuresCol=\"features\", predictionCol=\"cluster\")\n",
    "silhouette_times = evaluator.evaluate(resultados_clustering)\n",
    "print(f\"Silhouette (times): {silhouette_times:.4f}\")\n",
    "\n",
    "print(\"\\nResultados do clustering de times:\")\n",
    "resultados_clustering.select(\"time_evento\", \"gols_marcados\", \"passes_certos\", \"faltas_cometidas\", \"penaltis\", \"cluster\").show()"
   ]
  },
  {
   "cell_type": "code",
   "execution_count": 15,
   "metadata": {},
   "outputs": [
    {
     "name": "stdout",
     "output_type": "stream",
     "text": [
      "\n",
      "Análise dos clusters de times:\n",
      "+-------+---------+--------+----------+----------+------------+-----------------------------------------------------------------------+\n",
      "|cluster|num_times|avg_gols|avg_passes|avg_faltas|avg_penaltis|times                                                                  |\n",
      "+-------+---------+--------+----------+----------+------------+-----------------------------------------------------------------------+\n",
      "|0      |5        |4.2     |254.4     |229.4     |5.0         |[Athletico-PR, Cruzeiro, Grêmio, Santos, São Paulo]                    |\n",
      "|1      |2        |3.5     |215.0     |238.5     |5.0         |[Cuiabá, Flamengo]                                                     |\n",
      "|2      |2        |1.0     |263.5     |218.0     |6.5         |[Botafogo, Fluminense]                                                 |\n",
      "|3      |4        |3.5     |252.75    |250.25    |6.5         |[Corinthians, Coritiba, Goiás, Sport]                                  |\n",
      "|4      |7        |5.14    |258.71    |218.0     |5.86        |[Atlético-MG, Bahia, Ceará, Fortaleza, Internacional, Palmeiras, Vasco]|\n",
      "+-------+---------+--------+----------+----------+------------+-----------------------------------------------------------------------+\n",
      "\n"
     ]
    }
   ],
   "source": [
    "# Analisar clusters de times\n",
    "print(\"\\nAnálise dos clusters de times:\")\n",
    "resultados_clustering.createOrReplaceTempView(\"resultados_clustering_view\")\n",
    "clusters_analysis = spark.sql(\"\"\"\n",
    "    SELECT \n",
    "        cluster,\n",
    "        COUNT(*) as num_times,\n",
    "        ROUND(AVG(gols_marcados), 2) as avg_gols,\n",
    "        ROUND(AVG(passes_certos), 2) as avg_passes,\n",
    "        ROUND(AVG(faltas), 2) as avg_faltas,\n",
    "        ROUND(AVG(penaltis), 2) as avg_penaltis,\n",
    "        COLLECT_LIST(time_evento) as times\n",
    "    FROM (\n",
    "        SELECT time_evento, gols_marcados, passes_certos, faltas_cometidas as faltas, penaltis, cluster\n",
    "        FROM resultados_clustering_view\n",
    "    )\n",
    "    GROUP BY cluster\n",
    "    ORDER BY cluster\n",
    "\"\"\")\n",
    "\n",
    "# Registrar resultados como view temporária\n",
    "resultados_clustering.createOrReplaceTempView(\"resultados_clustering_view\")\n",
    "\n",
    "clusters_analysis.show(truncate=False)"
   ]
  },
  {
   "cell_type": "markdown",
   "metadata": {},
   "source": [
    "## 10. Machine Learning - Clustering de Jogadores"
   ]
  },
  {
   "cell_type": "code",
   "execution_count": 16,
   "metadata": {},
   "outputs": [
    {
     "name": "stdout",
     "output_type": "stream",
     "text": [
      "Preparando dados para clustering de jogadores com Spark MLlib...\n",
      "Treinando modelo de clustering para jogadores...\n",
      "Silhouette (jogadores): 0.0789\n",
      "\n",
      "Resultados do clustering de jogadores (top 15):\n",
      "+----------+-------------+-------------+----+-------------+-------+\n",
      "|   jogador|  time_evento|total_eventos|gols|passes_certos|cluster|\n",
      "+----------+-------------+-------------+----+-------------+-------+\n",
      "|  Vieira 7|  Corinthians|          208|   1|           25|      0|\n",
      "|Oliveira 1|       Grêmio|          201|   0|           33|      1|\n",
      "|   Ramos 5|        Goiás|          200|   0|           24|      1|\n",
      "|Teixeira 1|        Sport|          197|   0|           23|      0|\n",
      "|  Castro 1|    São Paulo|          197|   1|           24|      0|\n",
      "| Ribeiro 4|Internacional|          197|   1|           21|      0|\n",
      "|  Castro 5|Internacional|          195|   0|           25|      1|\n",
      "|  Rocha 11|        Goiás|          194|   1|           32|      0|\n",
      "| Fonseca 7|    Fortaleza|          194|   2|           25|      3|\n",
      "|  Mendes 1|    Fortaleza|          194|   1|           19|      0|\n",
      "| Almeida 5|       Cuiabá|          194|   0|           25|      0|\n",
      "|Monteiro 7|Internacional|          192|   0|           14|      0|\n",
      "|   Souza 1|    Palmeiras|          192|   0|           31|      1|\n",
      "|   Ramos 4|  Corinthians|          192|   0|           21|      0|\n",
      "|  Soares 1|     Flamengo|          191|   1|           19|      0|\n",
      "+----------+-------------+-------------+----+-------------+-------+\n",
      "only showing top 15 rows\n",
      "\n"
     ]
    }
   ],
   "source": [
    "# Preparar dados para clustering de jogadores usando Spark SQL\n",
    "print(\"Preparando dados para clustering de jogadores com Spark MLlib...\")\n",
    "\n",
    "# Calcular estatísticas por jogador usando Spark SQL\n",
    "stats_jogadores_spark = spark.sql(\"\"\"\n",
    "    SELECT \n",
    "        jogador,\n",
    "        time_evento,\n",
    "        COUNT(*) as total_eventos,\n",
    "        SUM(CASE WHEN tipo_evento = 'GOL' THEN 1 ELSE 0 END) as gols,\n",
    "        SUM(CASE WHEN tipo_evento = 'ASSISTENCIA' THEN 1 ELSE 0 END) as assistencias,\n",
    "        SUM(CASE WHEN tipo_evento = 'PASSE_CERTO' THEN 1 ELSE 0 END) as passes_certos,\n",
    "        SUM(CASE WHEN tipo_evento = 'PASSE_ERRADO' THEN 1 ELSE 0 END) as passes_errados,\n",
    "        SUM(CASE WHEN tipo_evento = 'PASSE_LONGO' THEN 1 ELSE 0 END) as passes_longos,\n",
    "        SUM(CASE WHEN tipo_evento = 'CRUZAMENTO' THEN 1 ELSE 0 END) as cruzamentos,\n",
    "        SUM(CASE WHEN tipo_evento = 'CHUTE_GOL' THEN 1 ELSE 0 END) as chutes_gol,\n",
    "        SUM(CASE WHEN tipo_evento = 'CHUTE_FORA' THEN 1 ELSE 0 END) as chutes_fora,\n",
    "        SUM(CASE WHEN tipo_evento = 'CHUTE_DEFENDIDO' THEN 1 ELSE 0 END) as chutes_defendidos,\n",
    "        SUM(CASE WHEN tipo_evento = 'FALTA_COMETIDA' THEN 1 ELSE 0 END) as faltas_cometidas,\n",
    "        SUM(CASE WHEN tipo_evento = 'FALTA_SOFRIDA' THEN 1 ELSE 0 END) as faltas_sofridas,\n",
    "        SUM(CASE WHEN tipo_evento = 'CARTAO_AMARELO' THEN 1 ELSE 0 END) as cartoes_amarelos,\n",
    "        SUM(CASE WHEN tipo_evento = 'CARTAO_VERMELHO' THEN 1 ELSE 0 END) as cartoes_vermelhos,\n",
    "        SUM(CASE WHEN tipo_evento = 'IMPEDIMENTO' THEN 1 ELSE 0 END) as impedimentos,\n",
    "        SUM(CASE WHEN tipo_evento = 'ESCANTEIO' THEN 1 ELSE 0 END) as escanteios,\n",
    "        SUM(CASE WHEN tipo_evento = 'LATERAL' THEN 1 ELSE 0 END) as laterais,\n",
    "        SUM(CASE WHEN tipo_evento = 'TIRO_META' THEN 1 ELSE 0 END) as tiros_meta,\n",
    "        SUM(CASE WHEN tipo_evento = 'PENALTI' THEN 1 ELSE 0 END) as penaltis,\n",
    "        SUM(CASE WHEN tipo_evento = 'DEFESA_GOLEIRO' THEN 1 ELSE 0 END) as defesas_goleiro,\n",
    "        SUM(CASE WHEN tipo_evento = 'DESARME' THEN 1 ELSE 0 END) as desarmes,\n",
    "        SUM(CASE WHEN tipo_evento = 'INTERCEPTACAO' THEN 1 ELSE 0 END) as interceptacoes,\n",
    "        SUM(CASE WHEN tipo_evento = 'CABECADA' THEN 1 ELSE 0 END) as cabecadas,\n",
    "        SUM(CASE WHEN tipo_evento = 'DRIBLE_CERTO' THEN 1 ELSE 0 END) as dribles_certos,\n",
    "        SUM(CASE WHEN tipo_evento = 'DRIBLE_ERRADO' THEN 1 ELSE 0 END) as dribles_errados,\n",
    "        SUM(CASE WHEN tipo_evento = 'COBRANCA_FALTA' THEN 1 ELSE 0 END) as cobrancas_falta,\n",
    "        SUM(CASE WHEN tipo_evento = 'COBRANCA_ESCANTEIO' THEN 1 ELSE 0 END) as cobrancas_escanteio,\n",
    "        SUM(CASE WHEN tipo_evento = 'COBRANCA_PENALTI' THEN 1 ELSE 0 END) as cobrancas_penalti,\n",
    "        SUM(CASE WHEN tipo_evento = 'POSSE_BOLA' THEN 1 ELSE 0 END) as posse_bola,\n",
    "        CASE WHEN (SUM(CASE WHEN tipo_evento = 'PASSE_CERTO' THEN 1 ELSE 0 END)+SUM(CASE WHEN tipo_evento = 'PASSE_ERRADO' THEN 1 ELSE 0 END)) > 0 THEN CAST(SUM(CASE WHEN tipo_evento = 'PASSE_CERTO' THEN 1 ELSE 0 END) AS DOUBLE) / (SUM(CASE WHEN tipo_evento = 'PASSE_CERTO' THEN 1 ELSE 0 END)+SUM(CASE WHEN tipo_evento = 'PASSE_ERRADO' THEN 1 ELSE 0 END)) ELSE 0.0 END as taxa_acerto_passe,\n",
    "        CASE WHEN (SUM(CASE WHEN tipo_evento IN ('CHUTE_GOL','CHUTE_FORA','CHUTE_DEFENDIDO') THEN 1 ELSE 0 END)) > 0 THEN CAST(SUM(CASE WHEN tipo_evento = 'CHUTE_GOL' THEN 1 ELSE 0 END) AS DOUBLE) / SUM(CASE WHEN tipo_evento IN ('CHUTE_GOL','CHUTE_FORA','CHUTE_DEFENDIDO') THEN 1 ELSE 0 END) ELSE 0.0 END as taxa_chute_no_alvo,\n",
    "        CASE WHEN (SUM(CASE WHEN tipo_evento IN ('CHUTE_GOL','CHUTE_FORA','CHUTE_DEFENDIDO') THEN 1 ELSE 0 END)) > 0 THEN CAST(SUM(CASE WHEN tipo_evento = 'GOL' THEN 1 ELSE 0 END) AS DOUBLE) / SUM(CASE WHEN tipo_evento IN ('CHUTE_GOL','CHUTE_FORA','CHUTE_DEFENDIDO') THEN 1 ELSE 0 END) ELSE 0.0 END as taxa_conversao_chute,\n",
    "        CASE WHEN COUNT(*) > 0 THEN CAST(SUM(CASE WHEN tipo_evento = 'FALTA_COMETIDA' THEN 1 ELSE 0 END) AS DOUBLE) / COUNT(*) ELSE 0.0 END as proporcao_faltas,\n",
    "        CASE WHEN COUNT(*) > 0 THEN CAST(SUM(CASE WHEN tipo_evento = 'POSSE_BOLA' THEN 1 ELSE 0 END) AS DOUBLE) / COUNT(*) ELSE 0.0 END as proporcao_posse\n",
    "    FROM eventos\n",
    "    GROUP BY jogador, time_evento\n",
    "    ORDER BY total_eventos DESC\n",
    "\"\"\")\n",
    "\n",
    "# Preparar features para clustering de jogadores\n",
    "assembler_jogadores = VectorAssembler(\n",
    "    inputCols=[\"total_eventos\", \"gols\", \"assistencias\", \"passes_certos\", \"passes_errados\", \"passes_longos\", \"cruzamentos\", \"chutes_gol\", \"chutes_fora\", \"chutes_defendidos\", \"faltas_cometidas\", \"faltas_sofridas\", \"cartoes_amarelos\", \"cartoes_vermelhos\", \"impedimentos\", \"escanteios\", \"laterais\", \"tiros_meta\", \"penaltis\", \"defesas_goleiro\", \"desarmes\", \"interceptacoes\", \"cabecadas\", \"dribles_certos\", \"dribles_errados\", \"cobrancas_falta\", \"cobrancas_escanteio\", \"cobrancas_penalti\", \"posse_bola\", \"taxa_acerto_passe\", \"taxa_chute_no_alvo\", \"taxa_conversao_chute\", \"proporcao_faltas\", \"proporcao_posse\"],\n",
    "    outputCol=\"features_raw\"\n",
    ")\n",
    "\n",
    "# Normalizar features\n",
    "scaler_jogadores = SparkStandardScaler(\n",
    "    inputCol=\"features_raw\",\n",
    "    outputCol=\"features\",\n",
    "    withStd=True,\n",
    "    withMean=True\n",
    ")\n",
    "\n",
    "# Configurar K-Means para jogadores\n",
    "kmeans_jogadores = SparkKMeans(\n",
    "    featuresCol=\"features\",\n",
    "    predictionCol=\"cluster\",\n",
    "    k=5,\n",
    "    seed=42\n",
    ")\n",
    "\n",
    "# Criar pipeline para jogadores\n",
    "pipeline_jogadores = Pipeline(stages=[assembler_jogadores, scaler_jogadores, kmeans_jogadores])\n",
    "\n",
    "# Treinar modelo\n",
    "print(\"Treinando modelo de clustering para jogadores...\")\n",
    "modelo_clustering_jogadores = pipeline_jogadores.fit(stats_jogadores_spark)\n",
    "\n",
    "# Aplicar clustering\n",
    "resultados_clustering_jogadores = modelo_clustering_jogadores.transform(stats_jogadores_spark)\n",
    "evaluator_jog = ClusteringEvaluator(featuresCol=\"features\", predictionCol=\"cluster\")\n",
    "silhouette_jogadores = evaluator_jog.evaluate(resultados_clustering_jogadores)\n",
    "print(f\"Silhouette (jogadores): {silhouette_jogadores:.4f}\")\n",
    "\n",
    "print(\"\\nResultados do clustering de jogadores (top 15):\")\n",
    "resultados_clustering_jogadores.select(\"jogador\", \"time_evento\", \"total_eventos\", \"gols\", \"passes_certos\", \"cluster\").show(15)"
   ]
  },
  {
   "cell_type": "code",
   "execution_count": 17,
   "metadata": {},
   "outputs": [
    {
     "name": "stdout",
     "output_type": "stream",
     "text": [
      "\n",
      "Análise dos clusters de jogadores:\n",
      "+-------+-------------+-----------+--------+----------+----------+----------+\n",
      "|cluster|num_jogadores|avg_eventos|avg_gols|avg_passes|avg_chutes|avg_faltas|\n",
      "+-------+-------------+-----------+--------+----------+----------+----------+\n",
      "|      0|           60|     180.18|    0.25|     22.42|     21.67|     22.23|\n",
      "|      1|           48|     177.54|    0.17|     25.71|     24.46|     24.71|\n",
      "|      2|           59|     167.15|    0.05|     22.86|     20.46|     17.53|\n",
      "|      3|           40|     165.95|    0.83|     20.85|     23.75|     18.95|\n",
      "|      4|           13|     166.69|    1.62|     22.23|     18.23|     21.15|\n",
      "+-------+-------------+-----------+--------+----------+----------+----------+\n",
      "\n"
     ]
    }
   ],
   "source": [
    "# Analisar clusters de jogadores\n",
    "print(\"\\nAnálise dos clusters de jogadores:\")\n",
    "resultados_clustering_jogadores.createOrReplaceTempView(\"jogadores_clusters_view\")\n",
    "\n",
    "clusters_jogadores_analysis = spark.sql(\"\"\"\n",
    "    SELECT \n",
    "        cluster,\n",
    "        COUNT(*) as num_jogadores,\n",
    "        ROUND(AVG(total_eventos), 2) as avg_eventos,\n",
    "        ROUND(AVG(gols), 2) as avg_gols,\n",
    "        ROUND(AVG(passes_certos), 2) as avg_passes,\n",
    "        ROUND(AVG(chutes_gol + chutes_fora + chutes_defendidos), 2) as avg_chutes,\n",
    "        ROUND(AVG(faltas_cometidas), 2) as avg_faltas\n",
    "    FROM jogadores_clusters_view\n",
    "    GROUP BY cluster\n",
    "    ORDER BY cluster\n",
    "\"\"\")\n",
    "\n",
    "clusters_jogadores_analysis.show()"
   ]
  },
  {
   "cell_type": "markdown",
   "metadata": {},
   "source": [
    "## 11. Resumo Final e Conclusões"
   ]
  },
  {
   "cell_type": "code",
   "execution_count": 18,
   "metadata": {},
   "outputs": [
    {
     "name": "stdout",
     "output_type": "stream",
     "text": [
      "=== RESUMO FINAL - CAMPEONATO BRASILEIRO 2025 ===\n",
      "Apache Spark com Streaming e Machine Learning\n",
      "-------------------------------------------------------\n",
      "\n",
      "ESTATÍSTICAS GERAIS:\n",
      "   Total de eventos processados via Spark Streaming: 38,000\n",
      "   Total de gols: 80\n",
      "   Total de times: 20\n",
      "   Total de jogadores: 188\n",
      "   Tipos de eventos: 30\n",
      "\n",
      "RESUMO CLUSTERS (TIMES):\n",
      "   • Cluster 4: maior média de gols (5.14) — perfil ofensivo\n",
      "   • Cluster 2: maior média de passes certos (263.50) — controle de posse\n",
      "   • Cluster 3: maior média de faltas (250.25) — jogo físico\n",
      "   • Cluster 3: mais pênaltis (6.50) — presença na área\n",
      "\n",
      "RESUMO CLUSTERS (JOGADORES):\n",
      "   • Cluster 4: maior média de gols (1.62) — finalizadores\n",
      "   • Cluster 1: maior média de passes (25.71) — construtores\n",
      "   • Cluster 1: maior média de chutes (24.46) — alta atividade ofensiva\n",
      "   • Cluster 1: maior média de faltas (24.71) — maior contato/pressão\n",
      "============================================================\n"
     ]
    }
   ],
   "source": [
    "print(\"=== RESUMO FINAL - CAMPEONATO BRASILEIRO 2025 ===\")\n",
    "print(\"Apache Spark com Streaming e Machine Learning\")\n",
    "print(\"-\" * 55)\n",
    "\n",
    "# Estatísticas finais usando Spark SQL\n",
    "total_eventos = spark.sql(\"SELECT COUNT(*) as total FROM eventos\").collect()[0]['total']\n",
    "total_gols = spark.sql(\"SELECT COUNT(*) as gols FROM eventos WHERE tipo_evento = 'GOL'\").collect()[0]['gols']\n",
    "total_times = spark.sql(\"SELECT COUNT(DISTINCT time_evento) as times FROM eventos\").collect()[0]['times']\n",
    "total_jogadores = spark.sql(\"SELECT COUNT(DISTINCT jogador) as jogadores FROM eventos\").collect()[0]['jogadores']\n",
    "\n",
    "print(f\"\\nESTATÍSTICAS GERAIS:\")\n",
    "print(f\"   Total de eventos processados via Spark Streaming: {total_eventos:,}\")\n",
    "print(f\"   Total de gols: {total_gols}\")\n",
    "print(f\"   Total de times: {total_times}\")\n",
    "print(f\"   Total de jogadores: {total_jogadores}\")\n",
    "print(f\"   Tipos de eventos: {len(tipos_eventos)}\")\n",
    "\n",
    "times_summary = spark.sql(\"SELECT cluster, AVG(gols_marcados) avg_gols, AVG(passes_certos) avg_passes, AVG(faltas_cometidas) avg_faltas, AVG(penaltis) avg_penaltis, COUNT(*) num_times FROM resultados_clustering_view GROUP BY cluster\").toPandas()\n",
    "if not times_summary.empty:\n",
    "    c_gols = int(times_summary.loc[times_summary['avg_gols'].idxmax(), 'cluster'])\n",
    "    v_gols = float(times_summary['avg_gols'].max())\n",
    "    c_passes = int(times_summary.loc[times_summary['avg_passes'].idxmax(), 'cluster'])\n",
    "    v_passes = float(times_summary['avg_passes'].max())\n",
    "    c_faltas = int(times_summary.loc[times_summary['avg_faltas'].idxmax(), 'cluster'])\n",
    "    v_faltas = float(times_summary['avg_faltas'].max())\n",
    "    c_penaltis = int(times_summary.loc[times_summary['avg_penaltis'].idxmax(), 'cluster'])\n",
    "    v_penaltis = float(times_summary['avg_penaltis'].max())\n",
    "    print(\"\\nRESUMO CLUSTERS (TIMES):\")\n",
    "    print(f\"   • Cluster {c_gols}: maior média de gols ({v_gols:.2f}) — perfil ofensivo\")\n",
    "    print(f\"   • Cluster {c_passes}: maior média de passes certos ({v_passes:.2f}) — controle de posse\")\n",
    "    print(f\"   • Cluster {c_faltas}: maior média de faltas ({v_faltas:.2f}) — jogo físico\")\n",
    "    print(f\"   • Cluster {c_penaltis}: mais pênaltis ({v_penaltis:.2f}) — presença na área\")\n",
    "\n",
    "jog_summary = spark.sql(\"SELECT cluster, AVG(total_eventos) avg_eventos, AVG(gols) avg_gols, AVG(passes_certos) avg_passes, AVG(chutes_gol + chutes_fora + chutes_defendidos) avg_chutes, AVG(faltas_cometidas) avg_faltas, COUNT(*) num_jog FROM jogadores_clusters_view GROUP BY cluster\").toPandas()\n",
    "if not jog_summary.empty:\n",
    "    cj_gols = int(jog_summary.loc[jog_summary['avg_gols'].idxmax(), 'cluster'])\n",
    "    vj_gols = float(jog_summary['avg_gols'].max())\n",
    "    cj_passes = int(jog_summary.loc[jog_summary['avg_passes'].idxmax(), 'cluster'])\n",
    "    vj_passes = float(jog_summary['avg_passes'].max())\n",
    "    cj_chutes = int(jog_summary.loc[jog_summary['avg_chutes'].idxmax(), 'cluster'])\n",
    "    vj_chutes = float(jog_summary['avg_chutes'].max())\n",
    "    cj_faltas = int(jog_summary.loc[jog_summary['avg_faltas'].idxmax(), 'cluster'])\n",
    "    vj_faltas = float(jog_summary['avg_faltas'].max())\n",
    "    print(\"\\nRESUMO CLUSTERS (JOGADORES):\")\n",
    "    print(f\"   • Cluster {cj_gols}: maior média de gols ({vj_gols:.2f}) — finalizadores\")\n",
    "    print(f\"   • Cluster {cj_passes}: maior média de passes ({vj_passes:.2f}) — construtores\")\n",
    "    print(f\"   • Cluster {cj_chutes}: maior média de chutes ({vj_chutes:.2f}) — alta atividade ofensiva\")\n",
    "    print(f\"   • Cluster {cj_faltas}: maior média de faltas ({vj_faltas:.2f}) — maior contato/pressão\")\n",
    "print(\"=\" * 60)"
   ]
  },
  {
   "cell_type": "code",
   "execution_count": 19,
   "metadata": {},
   "outputs": [
    {
     "name": "stdout",
     "output_type": "stream",
     "text": [
      "Spark Session finalizada (não encerrada).\n"
     ]
    }
   ],
   "source": [
    "# Finalizar Spark Session (desativado temporariamente para testes do Spark UI)\n",
    "# spark.stop()\n",
    "print(\"Spark Session finalizada (não encerrada).\")"
   ]
  }
 ],
 "metadata": {
  "kernelspec": {
   "display_name": "Python 3 (ipykernel)",
   "language": "python",
   "name": "python3"
  },
  "language_info": {
   "codemirror_mode": {
    "name": "ipython",
    "version": 3
   },
   "file_extension": ".py",
   "mimetype": "text/x-python",
   "name": "python",
   "nbconvert_exporter": "python",
   "pygments_lexer": "ipython3",
   "version": "3.11.5"
  }
 },
 "nbformat": 4,
 "nbformat_minor": 4
}
